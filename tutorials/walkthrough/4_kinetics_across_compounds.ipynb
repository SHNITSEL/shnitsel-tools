{
 "cells": [
  {
   "cell_type": "code",
   "execution_count": null,
   "metadata": {},
   "outputs": [],
   "source": [
    "import shnitsel as sh\n",
    "import shnitsel.xarray\n",
    "import xarray as xr\n",
    "import matplotlib.pyplot as plt\n",
    "from sklearn.cluster import KMeans"
   ]
  },
  {
   "cell_type": "code",
   "execution_count": null,
   "metadata": {},
   "outputs": [],
   "source": [
    "A02 = sh.open_frames('/nc/reports/2025-05-21_datasheets/filtered_C3H6.nc')\n",
    "A03 = sh.open_frames('/nc/reports/2025-05-21_datasheets/filtered_C4H8_g0.nc')\n",
    "\n",
    "# This isn't necessary for this notebook in its current state\n",
    "A02 = A02.isel(atom=slice(0,6)).assign_coords(atom=[0, 1, 2, 3, 5, 4]).sortby('atom')\n",
    "A03 = A03.isel(atom=[0,1,2,3,7,8]).assign_coords(atom=[3, 1, 0, 2, 4, 5]).sortby('atom')\n",
    "\n",
    "# Filter cleavages\n",
    "A02.atXYZ.attrs['smiles_map'] = A02.atXYZ.isel(frame=0).sh.smiles_map(charge=-3)\n",
    "A03.atXYZ.attrs['smiles_map'] = A03.atXYZ.isel(frame=0).sh.smiles_map(charge=-8)\n",
    "filtration_verbosity = 0\n",
    "A02 = sh.dynamic.filter_unphysical.filter_cleavage(A02, CC=True, CH=True, verbose=filtration_verbosity)\n",
    "A03 = sh.dynamic.filter_unphysical.filter_cleavage(A03, CC=True, CH=True, verbose=filtration_verbosity)"
   ]
  },
  {
   "cell_type": "code",
   "execution_count": null,
   "metadata": {},
   "outputs": [],
   "source": [
    "dih = A03.atXYZ.sh.dihedral(3, 1, 0, 2, deg=True)\n",
    "dih['e_pot'] = A03.energy.sel(state=A03.astate).drop_vars('state')\n",
    "dih['astate'] = A03.astate"
   ]
  },
  {
   "cell_type": "code",
   "execution_count": null,
   "metadata": {},
   "outputs": [],
   "source": [
    "end_dih = dih.groupby('trajid').last()\n",
    "end_dih['ZZ'] = end_dih<80\n",
    "end_dih['ZE'] = end_dih>100\n",
    "\n",
    "trajids_ZZ = end_dih.trajid[end_dih['ZZ']]\n",
    "ZZ = A03.sh.sel_trajs(trajids_ZZ)\n",
    "\n",
    "trajids_ZE = end_dih.trajid[end_dih['ZE']]\n",
    "ZE = A03.sh.sel_trajs(trajids_ZE)"
   ]
  },
  {
   "cell_type": "code",
   "execution_count": null,
   "metadata": {},
   "outputs": [],
   "source": [
    "import numpy as np\n",
    "\n",
    "def _plot_pops(pops, ax=None, c='k'):\n",
    "    if ax is None:\n",
    "        _, ax = plt.subplots(1,1)\n",
    "    for state, sdata in pops.groupby('state'):\n",
    "        ls = sdata['_ls'].item()\n",
    "        ax.plot(sdata['time'], sdata, c=c, ls=ls)\n",
    "    ax.set_ylabel('Population')\n",
    "    ax.set_xlabel('$t$ / fs')\n",
    "    return ax\n",
    "    \n",
    "def pops_combine(frames, ax=None, c='k'):\n",
    "    if ax is None:\n",
    "        _, ax = plt.subplots(1,1)\n",
    "    pops = frames.sh.calc_pops()\n",
    "    combined = xr.DataArray(\n",
    "        np.c_[pops[:, 0], pops[:, [1, 2]].sum('state')],\n",
    "        coords=[pops.time, ('state', [s[1] for s in COMBINED_STATES])]\n",
    "    )\n",
    "    combined['_ls'] = 'state', [s[0] for s in COMBINED_STATES]\n",
    "    _plot_pops(combined, ax, c=c)\n",
    "    return ax\n"
   ]
  },
  {
   "cell_type": "code",
   "execution_count": null,
   "metadata": {},
   "outputs": [],
   "source": [
    "from matplotlib.lines import Line2D\n",
    "\n",
    "ensembles = [\n",
    "    # (A03, '#7E5273', r'$\\mathbf{A03}$ (all)'),\n",
    "    (ZZ, '#2c3e50', r'$\\mathbf{A03}$ ($Z\\rightarrow Z$)'),\n",
    "    (ZE, '#999', r'$\\mathbf{A03}$ ($Z\\rightarrow E$)'),\n",
    "    (A02, '#C4A000', r'$\\mathbf{A02}$')\n",
    "]\n",
    "\n",
    "COMBINED_STATES = [\n",
    "    ('-', '$S_0$'),\n",
    "    ('--', '$S_1$ & $S_2$')\n",
    "]\n",
    "\n",
    "def leg(label, **kwargs):\n",
    "    return Line2D([0], [0], label=label, **kwargs)\n",
    "\n",
    "linestyles = [leg(lb, c='k', ls=ls) for ls, lb in COMBINED_STATES]\n",
    "colours = [leg(lb, c=c, ls='-') for _, c, lb in ensembles]\n",
    "\n",
    "plt.rc('font', size=12)\n",
    "plt.rc('lines', linewidth=2)\n",
    "\n",
    "fig, ax = plt.subplots()\n",
    "for data, c, lb in ensembles:\n",
    "    pops_combine(data, ax, c=c)\n",
    "handles = colours\n",
    "# handles = linestyles + colours\n",
    "ax.legend(handles=handles, loc='center right')"
   ]
  },
  {
   "cell_type": "code",
   "execution_count": null,
   "metadata": {},
   "outputs": [],
   "source": []
  }
 ],
 "metadata": {
  "kernelspec": {
   "display_name": ".venv",
   "language": "python",
   "name": "python3"
  },
  "language_info": {
   "codemirror_mode": {
    "name": "ipython",
    "version": 3
   },
   "file_extension": ".py",
   "mimetype": "text/x-python",
   "name": "python",
   "nbconvert_exporter": "python",
   "pygments_lexer": "ipython3",
   "version": "3.12.7"
  }
 },
 "nbformat": 4,
 "nbformat_minor": 2
}
