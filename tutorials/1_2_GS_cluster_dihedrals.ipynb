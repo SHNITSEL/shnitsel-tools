{
 "cells": [
  {
   "cell_type": "code",
   "execution_count": null,
   "metadata": {},
   "outputs": [],
   "source": [
    "import shnitsel as sh\n",
    "import shnitsel.xarray\n",
    "import matplotlib.pyplot as plt"
   ]
  },
  {
   "cell_type": "code",
   "execution_count": null,
   "metadata": {},
   "outputs": [],
   "source": [
    "frames = sh.open_frames('/nc/reports/2025-05-21_datasheets/filtered_C4H8_g0.nc')\n",
    "frames"
   ]
  },
  {
   "cell_type": "code",
   "execution_count": null,
   "metadata": {},
   "outputs": [],
   "source": [
    "# Select trajectories without cleavages\n",
    "mol = frames.atXYZ.isel(frame=0).sh.to_mol(to2D=False)\n",
    "frames.atXYZ.attrs['smiles_map'] = sh.core.postprocess.mol_to_numbered_smiles(mol)\n",
    "frames = sh.core.filter_unphysical.filter_cleavage(frames, CC=True, CH=True)"
   ]
  },
  {
   "cell_type": "code",
   "execution_count": null,
   "metadata": {},
   "outputs": [],
   "source": [
    "dih = frames.atXYZ.sh.dihedral(0, 1, 2, 3, full=False, deg=True)\n",
    "dih"
   ]
  },
  {
   "cell_type": "code",
   "execution_count": null,
   "metadata": {},
   "outputs": [],
   "source": [
    "from sklearn.cluster import KMeans"
   ]
  },
  {
   "cell_type": "markdown",
   "metadata": {},
   "source": [
    "### $k$-means clustering using final timestep"
   ]
  },
  {
   "cell_type": "code",
   "execution_count": null,
   "metadata": {},
   "outputs": [],
   "source": [
    "Y = dih.groupby('trajid').map(lambda traj: traj[{'frame': -1}])\n",
    "kmc = KMeans(n_clusters=2)\n",
    "kmc.fit(Y.data.reshape(-1, 1))\n",
    "plt.scatter(Y, [1]*len(Y), c=kmc.predict(Y.data.reshape(-1, 1)))\n",
    "plt.xlabel('Final dihedral / °')"
   ]
  },
  {
   "cell_type": "markdown",
   "metadata": {},
   "source": [
    "### $k$-means clustering using final 2 timesteps"
   ]
  },
  {
   "cell_type": "code",
   "execution_count": null,
   "metadata": {},
   "outputs": [],
   "source": [
    "Y = dih.groupby('trajid').map(lambda traj: traj[{'frame': slice(-2, None)}].unstack('frame').assign_coords(time=[-2,-1]))\n",
    "kmc = KMeans(n_clusters=2)\n",
    "kmc.fit(Y)\n",
    "plt.scatter(Y[:, 0], Y[:, 1], c=kmc.predict(Y))\n",
    "plt.xlabel('Penultimate dihedral / °')\n",
    "plt.ylabel('Final dihedral / °')"
   ]
  },
  {
   "cell_type": "markdown",
   "metadata": {},
   "source": [
    "### -10 and -1"
   ]
  },
  {
   "cell_type": "code",
   "execution_count": null,
   "metadata": {},
   "outputs": [],
   "source": [
    "Y = dih.groupby('trajid').map(lambda traj: traj[{'frame': [-10, -1]}].unstack('frame').assign_coords(time=[-10,-1]))\n",
    "kmc = KMeans(n_clusters=2)\n",
    "kmc.fit(Y)\n",
    "plt.scatter(Y[:, 0], Y[:, 1], c=kmc.predict(Y))\n",
    "plt.xlabel('Dihedral 5 fs before end / °')\n",
    "plt.ylabel('Final dihedral / °')"
   ]
  },
  {
   "cell_type": "markdown",
   "metadata": {},
   "source": [
    "### $k$-means over the final 20 frames + PCA"
   ]
  },
  {
   "cell_type": "code",
   "execution_count": null,
   "metadata": {},
   "outputs": [],
   "source": [
    "def tmp(traj):\n",
    "    traj = traj[{'frame': slice(-10, None)}]\n",
    "    traj = traj.unstack('frame')\n",
    "    traj = traj.assign_coords(time=range(-20, 0, 2))\n",
    "    return traj\n",
    "\n",
    "Ynew = dih.groupby('trajid').map(tmp)\n",
    "Ynew"
   ]
  },
  {
   "cell_type": "code",
   "execution_count": null,
   "metadata": {},
   "outputs": [],
   "source": [
    "kmc = KMeans(n_clusters=2)\n",
    "kmc.fit(Ynew)\n",
    "pca_new = Ynew.sh.pca('time')\n",
    "plt.scatter(pca_new[:, 0], pca_new[:, 1], c=kmc.predict(Ynew))\n",
    "plt.xlabel('PC1')\n",
    "plt.ylabel('PC2')"
   ]
  }
 ],
 "metadata": {
  "kernelspec": {
   "display_name": ".venv",
   "language": "python",
   "name": "python3"
  },
  "language_info": {
   "codemirror_mode": {
    "name": "ipython",
    "version": 3
   },
   "file_extension": ".py",
   "mimetype": "text/x-python",
   "name": "python",
   "nbconvert_exporter": "python",
   "pygments_lexer": "ipython3",
   "version": "3.12.7"
  }
 },
 "nbformat": 4,
 "nbformat_minor": 2
}
