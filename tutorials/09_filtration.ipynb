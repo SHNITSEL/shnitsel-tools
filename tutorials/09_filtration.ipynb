{
 "cells": [
  {
   "cell_type": "code",
   "execution_count": null,
   "metadata": {},
   "outputs": [],
   "source": [
    "import xarray as xr\n",
    "\n",
    "import shnitsel as sh\n",
    "import shnitsel.xarray"
   ]
  },
  {
   "cell_type": "markdown",
   "metadata": {},
   "source": [
    "## Load ensembles"
   ]
  },
  {
   "cell_type": "code",
   "execution_count": null,
   "metadata": {},
   "outputs": [],
   "source": [
    "cpnds = {}\n",
    "for cpnd in ['C2H4', 'C3H6', 'C4H8']:\n",
    "    print(\"\\t\", cpnd)\n",
    "    cpnds[cpnd] = sh.parse.read_trajs(f'/traj/SHNITSEL_alkenes/traj_{cpnd}/', kind='sharc', parallel=True)"
   ]
  },
  {
   "cell_type": "markdown",
   "metadata": {},
   "source": [
    "### Checkpoint: loading complete"
   ]
  },
  {
   "cell_type": "code",
   "execution_count": null,
   "metadata": {},
   "outputs": [],
   "source": [
    "for cpnd in cpnds:\n",
    "    sh.xrhelpers.save_frames(cpnds[cpnd], f'/tmp/raw_{cpnd}.nc')"
   ]
  },
  {
   "cell_type": "code",
   "execution_count": null,
   "metadata": {},
   "outputs": [],
   "source": [
    "cpnds = {}\n",
    "for cpnd in ['C2H4', 'C3H6', 'C4H8_g0']:\n",
    "    cpnds[cpnd] = sh.xrhelpers.open_frames(f'/nc/2025-05-20/raw_{cpnd}.nc').sh.setup_frames()\n",
    "cpnds['C4H8'] = cpnds['C4H8_g0']\n",
    "del(cpnds['C4H8_g0'])"
   ]
  },
  {
   "cell_type": "markdown",
   "metadata": {},
   "source": [
    "## Filter alkenes by energy"
   ]
  },
  {
   "cell_type": "code",
   "execution_count": null,
   "metadata": {},
   "outputs": [],
   "source": [
    "feat = cpnds['C2H4'].sh.energy_filtranda()\n",
    "feat"
   ]
  },
  {
   "cell_type": "code",
   "execution_count": null,
   "metadata": {},
   "outputs": [],
   "source": [
    "masks = xr.Dataset(\n",
    "    {\n",
    "        'etot_window' : abs(feat['etot_drift']) < 0.2,\n",
    "        'etot_step'   : abs(feat['etot_step']) < 0.1,\n",
    "        'epot_step'   : (abs(feat['epot_step']) < 0.7) | feat['is_hop'],\n",
    "        'ekin_step'   : (abs(feat['ekin_step']) < 0.7) | feat['is_hop'],\n",
    "        'hop_epot'    : (abs(feat['epot_step']) < 1.0) | ~feat['is_hop'],\n",
    "    }\n",
    ")\n",
    "masks"
   ]
  },
  {
   "cell_type": "code",
   "execution_count": null,
   "metadata": {},
   "outputs": [],
   "source": [
    "(masks['etot_window'].sortby(['trajid', 'time']).time == masks['etot_window'].time).all()"
   ]
  },
  {
   "cell_type": "code",
   "execution_count": null,
   "metadata": {},
   "outputs": [],
   "source": [
    "import numpy as np\n",
    "def last_time_where(mask):\n",
    "    before_first_false = ~((~mask).groupby('trajid').cumsum().astype(bool))\n",
    "    upto_first_false = mask.coords['time'][before_first_false].groupby('trajid').last()\n",
    "    fallback = (~before_first_false).groupby('trajid').all()\n",
    "    if fallback.any():\n",
    "        fallback = fallback.copy(data=np.full((len(fallback),), -1))  # -1 indicates first ts fails test\n",
    "        return upto_first_false.combine_first(fallback)\n",
    "    else:\n",
    "        return upto_first_false\n",
    "\n",
    "last_time_where(masks['etot_window'])"
   ]
  },
  {
   "cell_type": "code",
   "execution_count": null,
   "metadata": {},
   "outputs": [],
   "source": [
    "masks['etot_window'].sh.last_time_where()"
   ]
  },
  {
   "cell_type": "code",
   "execution_count": null,
   "metadata": {},
   "outputs": [],
   "source": [
    "cutoffs = masks.sh.last_time_where()\n",
    "cutoffs"
   ]
  },
  {
   "cell_type": "code",
   "execution_count": null,
   "metadata": {},
   "outputs": [],
   "source": [
    "cutoffs = {}\n",
    "for cpnd in cpnds:\n",
    "    feat = cpnds[cpnd].sh.energy_filtranda()\n",
    "    cutoffs[cpnd] = xr.Dataset(\n",
    "        {\n",
    "            'etot_window' : abs(feat['etot_drift']) < 0.2,\n",
    "            'etot_step'   : abs(feat['etot_step']) < 0.1,\n",
    "            'epot_step'   : (abs(feat['epot_step']) < 0.7) | feat['is_hop'],\n",
    "            'ekin_step'   : (abs(feat['ekin_step']) < 0.7) | feat['is_hop'],\n",
    "            'hop_epot'    : (abs(feat['epot_step']) < 1.0) | ~feat['is_hop'],\n",
    "        }\n",
    "    ).sh.last_time_where()"
   ]
  },
  {
   "cell_type": "code",
   "execution_count": null,
   "metadata": {},
   "outputs": [],
   "source": [
    "import matplotlib.pyplot as plt\n",
    "import numpy as np\n",
    "\n",
    "fig, axs = plt.subplots(2, 3, sharey=False, constrained_layout=True)\n",
    "for (cn, c), axcol in zip(cutoffs.items(), axs.T):\n",
    "    nreasons = len(c.attrs['reasons'])\n",
    "    typefreqs = np.bincount(c['reason'], minlength=nreasons)\n",
    "    xticks = range(nreasons)\n",
    "    axcol[0].bar(xticks, typefreqs)\n",
    "    axcol[0].set_xticks(xticks)\n",
    "    axcol[0].set_xticklabels(labels=c.attrs['reasons'], rotation=45, ha='right')\n",
    "    axcol[0].set_title(cn)\n",
    "\n",
    "    da = c.to_dataarray('cutoff').sortby([c['earliest'], c['original']])\n",
    "    xticks = np.arange(da.sizes['trajid_'])\n",
    "    for ctn, ctv in da.groupby('cutoff'):\n",
    "        ctv = ctv.squeeze()\n",
    "        axcol[1].barh(xticks, ctv, height=1.0, alpha=0.5)"
   ]
  },
  {
   "cell_type": "code",
   "execution_count": null,
   "metadata": {},
   "outputs": [],
   "source": [
    "cpnds['C2H4']"
   ]
  },
  {
   "cell_type": "code",
   "execution_count": null,
   "metadata": {},
   "outputs": [],
   "source": [
    "cutoffs['C2H4']['earliest']"
   ]
  },
  {
   "cell_type": "code",
   "execution_count": null,
   "metadata": {},
   "outputs": [],
   "source": [
    "efilt = {c: cpnds[c].sh.truncate(cutoffs[c]['earliest']) for c in cpnds}\n",
    "efilt['C2H4']"
   ]
  },
  {
   "cell_type": "code",
   "execution_count": null,
   "metadata": {},
   "outputs": [],
   "source": [
    "def truncate(frames, cutoffs):\n",
    "    expansion = cutoffs.sel(trajid_=frames.coords['trajid']).drop_vars('trajid_')\n",
    "    mask = frames['time'] <= expansion\n",
    "    return frames.sel(frame=mask)\n",
    "\n",
    "truncate(cpnds['C2H4'], cutoffs['C2H4']['earliest'])"
   ]
  },
  {
   "cell_type": "code",
   "execution_count": null,
   "metadata": {},
   "outputs": [],
   "source": [
    "efilt['C3H6']\n",
    "efilt['C2H4']"
   ]
  },
  {
   "cell_type": "code",
   "execution_count": null,
   "metadata": {},
   "outputs": [],
   "source": [
    "cpnds['C2H4'].time.groupby('trajid').last()"
   ]
  },
  {
   "cell_type": "code",
   "execution_count": null,
   "metadata": {},
   "outputs": [],
   "source": [
    "efilt['C2H4'].time.groupby('trajid').max()\n"
   ]
  },
  {
   "cell_type": "markdown",
   "metadata": {},
   "source": [
    "## Eliminate overshort trajectories"
   ]
  },
  {
   "cell_type": "code",
   "execution_count": null,
   "metadata": {},
   "outputs": [],
   "source": [
    "efilt = {c: cpnds[c].sh.truncate(cutoffs[c]['earliest']) for c in cpnds}\n",
    "\n",
    "for cpnd in efilt:\n",
    "    threshold = cpnds[cpnd].coords['time'].max() * 0.25\n",
    "    last_times = efilt[cpnd].time.groupby('trajid').last()\n",
    "    osids = last_times[last_times < threshold].trajid\n",
    "    print(cpnd, ':', len(osids))\n",
    "    efilt[cpnd] = efilt[cpnd].sh.sel_trajs(osids, invert=True)"
   ]
  },
  {
   "cell_type": "markdown",
   "metadata": {},
   "source": [
    "## Summarize: numbers of trajetories and frames"
   ]
  },
  {
   "cell_type": "code",
   "execution_count": null,
   "metadata": {},
   "outputs": [],
   "source": [
    "for cpnd in cpnds:\n",
    "    print(cpnd)\n",
    "    b = cpnds[cpnd].sizes\n",
    "    a = efilt[cpnd].sizes\n",
    "    for x in ['trajid_', 'frame']:\n",
    "        print(f\"{x:<7} {b[x]:6} -> {a[x]: 6}  retaining {100*a[x]/b[x]:05.2f}%\")\n",
    "\n",
    "    print()"
   ]
  },
  {
   "cell_type": "markdown",
   "metadata": {},
   "source": [
    "### Checkpoint: filtration complete"
   ]
  },
  {
   "cell_type": "code",
   "execution_count": null,
   "metadata": {},
   "outputs": [],
   "source": [
    "for cpnd in cpnds:\n",
    "    sh.xrhelpers.save_frames(efilt[cpnd], f'/tmp/filtered_{cpnd}.nc')"
   ]
  },
  {
   "cell_type": "code",
   "execution_count": null,
   "metadata": {},
   "outputs": [],
   "source": [
    "import shnitsel.dynamic as sh\n",
    "import shnitsel.dynamic.postprocess as P\n",
    "import matplotlib.pyplot as plt\n",
    "import numpy as np\n",
    "filtered = {}\n",
    "for cpnd in ['C2H4', 'C3H6', 'C4H8_g0']:\n",
    "    filtered[cpnd] = sh.xrhelpers.open_frames(f'/tmp/filtered_{cpnd}.nc')"
   ]
  },
  {
   "cell_type": "markdown",
   "metadata": {},
   "source": [
    "### Butene only: remove cleavages for biplot\n",
    "Because plotting dihedral rather than bodn-length"
   ]
  },
  {
   "cell_type": "code",
   "execution_count": null,
   "metadata": {},
   "outputs": [],
   "source": [
    "# borrowed from shnitsel-rough/pipelin.ipynb -- consider canonicalizing\n",
    "def scope(cpnd):\n",
    "    # We begin with S2 removed.\n",
    "    ids = {}\n",
    "    ids['withCH'] = sh.filter_unphysical.find_overlong(cpnd['atXYZ'], 1, 6, cutoff=1.7)\n",
    "    ids['withCC'] = sh.filter_unphysical.find_overlong(cpnd['atXYZ'], 6, 6, cutoff=2.8)\n",
    "    ids['withCHorCC'] = list(set(ids['withCH']).union(ids['withCC']))\n",
    "    ids['withCHandCC'] = list(set(ids['withCH']).intersection(ids['withCC']))\n",
    "    print(f\"{ids['withCC']=}\")\n",
    "    print(f\"{ids['withCHandCC']=}\")\n",
    "\n",
    "    removed_trajs = {k: sh.xrhelpers.sel_trajids(cpnd, v) for k, v in ids.items()}\n",
    "    removed = {k: [v.sizes['frame'], len(np.unique(v.trajid))] for k, v in removed_trajs.items()}\n",
    "    remaining_trajs = {k: sh.xrhelpers.sel_trajids(cpnd, v, invert=True) for k, v in ids.items()}\n",
    "    remaining = {k: [v.sizes['frame'], len(np.unique(v.trajid))] for k, v in remaining_trajs.items()}\n",
    "    \n",
    "    return removed, remaining\n",
    "\n",
    "scope(filtered['C4H8_g0'])"
   ]
  },
  {
   "cell_type": "code",
   "execution_count": null,
   "metadata": {},
   "outputs": [],
   "source": [
    "mol = sh.filter_unphysical.mol_from_atXYZ(\n",
    "    filtered['C4H8_g0'].atXYZ.isel(frame=0), to2D=False\n",
    ")\n",
    "filtered['C4H8_g0'].atXYZ.attrs['smiles_map'] = sh.filter_unphysical.mol_to_numbered_smiles(mol)\n",
    "\n",
    "uncleaving = sh.filter_unphysical.filter_cleavage(filtered['C4H8_g0'], CC=True, CH=True)\n",
    "uncleaving"
   ]
  },
  {
   "cell_type": "code",
   "execution_count": null,
   "metadata": {},
   "outputs": [],
   "source": [
    "folder = '/nc/reports/2025-05-21_datasheets/plots'\n",
    "sh.plot.biplot_kde(frames=uncleaving, at1=0, at2=1, at3=2, at4=3, geo_filter=[[0,70],[90,180]], levels=8)\n",
    "plt.gcf().savefig(f'{folder}/kb_C4H8_g0.png')"
   ]
  },
  {
   "cell_type": "code",
   "execution_count": null,
   "metadata": {},
   "outputs": [],
   "source": [
    "sh.plot.biplot_kde(frames=uncleaving, at1=0, at2=1, at3=2, at4=3, geo_filter=[[0,70],[90,180]], levels=8)"
   ]
  },
  {
   "cell_type": "markdown",
   "metadata": {},
   "source": [
    "### Checkpoint"
   ]
  },
  {
   "cell_type": "code",
   "execution_count": null,
   "metadata": {},
   "outputs": [],
   "source": [
    "uncleaving.sh.save_frames('/tmp/uncleaving.nc')"
   ]
  }
 ],
 "metadata": {
  "kernelspec": {
   "display_name": ".venv",
   "language": "python",
   "name": "python3"
  },
  "language_info": {
   "codemirror_mode": {
    "name": "ipython",
    "version": 3
   },
   "file_extension": ".py",
   "mimetype": "text/x-python",
   "name": "python",
   "nbconvert_exporter": "python",
   "pygments_lexer": "ipython3",
   "version": "3.12.7"
  }
 },
 "nbformat": 4,
 "nbformat_minor": 2
}
