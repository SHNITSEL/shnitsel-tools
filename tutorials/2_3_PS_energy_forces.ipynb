{
 "cells": [
  {
   "cell_type": "code",
   "execution_count": null,
   "metadata": {},
   "outputs": [],
   "source": [
    "import matplotlib as mpl\n",
    "import matplotlib.pyplot as plt\n",
    "import numpy as np\n",
    "\n",
    "import shnitsel as sh\n",
    "import shnitsel.xarray"
   ]
  },
  {
   "cell_type": "code",
   "execution_count": null,
   "metadata": {},
   "outputs": [],
   "source": [
    "ensemble = sh.open_frames('/nc/SHNITSEL_databases/dynamic/A01_ethene_dynamic.nc')"
   ]
  },
  {
   "cell_type": "code",
   "execution_count": null,
   "metadata": {},
   "outputs": [],
   "source": [
    "per_state = ensemble.sh.get_per_state()\n",
    "per_state.coords['_state'] = 'state', np.strings.mod(\"$S_{%d}$\", per_state.state - 1)\n",
    "per_state"
   ]
  },
  {
   "cell_type": "code",
   "execution_count": null,
   "metadata": {},
   "outputs": [],
   "source": [
    "xvar = 'energy'\n",
    "yvar = 'forces'\n",
    "range_ = [\n",
    "    [np.nanmin(per_state[xvar]).item(), np.nanmax(per_state[xvar]).item()],\n",
    "    [np.nanmin(per_state[yvar]).item(), np.nanmax(per_state[yvar]).item()]\n",
    "]\n",
    "nstates = per_state.sizes['state']\n",
    "fig, axs = plt.subplots(1, nstates, sharey=True)\n",
    "def get_label(da):\n",
    "    return f\"{da.attrs['long_name']} / {da.attrs['units']}\"\n",
    "xlabel = get_label(per_state[xvar])\n",
    "ylabel = get_label(per_state[yvar])\n",
    "\n",
    "hists = []\n",
    "qms = []\n",
    "for i, (state, sdata) in enumerate(per_state.groupby('state')):\n",
    "    sdata = sdata.squeeze('state')\n",
    "    hist, _, _, qm = axs[i].hist2d(xvar, yvar, data=sdata, label=state, bins=300, range=range_)\n",
    "    hists.append(hist)\n",
    "    qms.append(qm)\n",
    "    axs[i].set_xlabel(xlabel)\n",
    "    axs[i].set_title(sdata._state.item())\n",
    "\n",
    "# ensure consistent colour scale across subplots\n",
    "hists = np.array(hists)\n",
    "hists[hists==0] = np.nan\n",
    "zmin = np.nanmin(hists).item()\n",
    "zmax = np.nanmax(hists).item()\n",
    "print(f\"{zmin=},{zmax=}\")\n",
    "\n",
    "# for a linear colour scale, change `LogNorm` to `Normalize` on the following line:\n",
    "cnorm = mpl.colors.LogNorm(zmin, zmax)\n",
    "for qm in qms:\n",
    "    qm.set_norm(cnorm)\n",
    "fig.colorbar(qms[0], ax=axs, label='freq')\n",
    "axs[0].set_ylabel(ylabel)"
   ]
  }
 ],
 "metadata": {
  "kernelspec": {
   "display_name": ".venv",
   "language": "python",
   "name": "python3"
  },
  "language_info": {
   "codemirror_mode": {
    "name": "ipython",
    "version": 3
   },
   "file_extension": ".py",
   "mimetype": "text/x-python",
   "name": "python",
   "nbconvert_exporter": "python",
   "pygments_lexer": "ipython3",
   "version": "3.12.7"
  }
 },
 "nbformat": 4,
 "nbformat_minor": 2
}
