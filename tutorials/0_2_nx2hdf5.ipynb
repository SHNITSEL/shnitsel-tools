{
 "cells": [
  {
   "cell_type": "code",
   "execution_count": null,
   "id": "e703d6d2-8033-40b5-a267-7686dda80c7a",
   "metadata": {},
   "outputs": [],
   "source": [
    "import os\n",
    "import shnitsel as sh\n",
    "import shnitsel.xarray"
   ]
  },
  {
   "cell_type": "markdown",
   "id": "b4247e8d-18de-4dca-8980-e74e222fffae",
   "metadata": {},
   "source": [
    "## Trajectories\n",
    "\n",
    "Here we read from the folder ```test_data/sharc/traj_butene``` the data of two trajectories of butene upon excitation to the $\\mathrm S_1$ state.\n",
    "\n"
   ]
  },
  {
   "cell_type": "code",
   "execution_count": null,
   "id": "b0124690-6e2d-4633-8b57-35248303f700",
   "metadata": {},
   "outputs": [],
   "source": [
    "# traj_frames_chd = parse.read_trajs('test_data/newtonx/traj_chd', kind='nx')\n",
    "traj_frames_chd = sh.read_trajs('test_data/newtonx/', kind='nx')\n",
    "traj_frames_chd"
   ]
  },
  {
   "cell_type": "code",
   "execution_count": null,
   "id": "8c68dccd-5f11-49e5-8f4f-f7db95e7b0eb",
   "metadata": {},
   "outputs": [],
   "source": [
    "# find which trajectories have a timestep of 0.25 femtoseconds\n",
    "ids = traj_frames_chd.trajid_[traj_frames_chd.delta_t == 0.25]\n",
    "ids"
   ]
  },
  {
   "cell_type": "code",
   "execution_count": null,
   "id": "69bdeca2",
   "metadata": {},
   "outputs": [],
   "source": [
    "# select only frames from those trajectories\n",
    "trajs025 = traj_frames_chd.sh.sel_trajs(ids)\n",
    "trajs025"
   ]
  },
  {
   "cell_type": "code",
   "execution_count": null,
   "id": "4a7e2a0c",
   "metadata": {},
   "outputs": [],
   "source": [
    "trajs025.sh.save_frames('test_data/traj_chd025.nc', complevel=5)"
   ]
  }
 ],
 "metadata": {
  "kernelspec": {
   "display_name": ".venv",
   "language": "python",
   "name": "python3"
  },
  "language_info": {
   "codemirror_mode": {
    "name": "ipython",
    "version": 3
   },
   "file_extension": ".py",
   "mimetype": "text/x-python",
   "name": "python",
   "nbconvert_exporter": "python",
   "pygments_lexer": "ipython3",
   "version": "3.12.7"
  }
 },
 "nbformat": 4,
 "nbformat_minor": 5
}
