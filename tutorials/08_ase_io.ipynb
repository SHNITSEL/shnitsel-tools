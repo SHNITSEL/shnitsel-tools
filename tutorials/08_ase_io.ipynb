{
 "cells": [
  {
   "cell_type": "code",
   "execution_count": null,
   "metadata": {},
   "outputs": [],
   "source": [
    "from ase.db import connect\n",
    "import numpy as np\n",
    "import xarray as xr"
   ]
  },
  {
   "cell_type": "code",
   "execution_count": null,
   "metadata": {},
   "outputs": [],
   "source": [
    "db = connect('/nc/SHNITSEL-data/CH2NH2.db')"
   ]
  },
  {
   "cell_type": "code",
   "execution_count": null,
   "metadata": {},
   "outputs": [],
   "source": [
    "row0 = next(db.select())"
   ]
  },
  {
   "cell_type": "code",
   "execution_count": null,
   "metadata": {},
   "outputs": [],
   "source": [
    "dir(row0)"
   ]
  },
  {
   "cell_type": "code",
   "execution_count": null,
   "metadata": {},
   "outputs": [],
   "source": [
    "row0.data"
   ]
  },
  {
   "cell_type": "code",
   "execution_count": null,
   "metadata": {},
   "outputs": [],
   "source": [
    "keys = list(row0.data)\n",
    "keys"
   ]
  },
  {
   "cell_type": "code",
   "execution_count": null,
   "metadata": {},
   "outputs": [],
   "source": [
    "# Assuming dimensions follow SchNarc order\n",
    "shapes = {\n",
    "    'energy': ['frame', 'state'],\n",
    "    'socs': ['frame', 'soc'],\n",
    "    'forces': ['frame', 'state', 'atom', 'direction'],\n",
    "    'nacs': ['frame', 'statecomb', 'atom', 'direction'],\n",
    "    'dipoles': ['frame', 'not_sure', 'direction'],\n",
    "    # TODO Not sure what the second dipole dimension means.\n",
    "    # 3 permanent dipoles + 3 transition dipoles?\n",
    "}"
   ]
  },
  {
   "cell_type": "code",
   "execution_count": null,
   "metadata": {},
   "outputs": [],
   "source": [
    "def stack_rows(name):\n",
    "    global db\n",
    "    return np.stack([row.data[name] for row in db.select()])\n",
    "\n",
    "energy = stack_rows('energy')\n",
    "energy"
   ]
  },
  {
   "cell_type": "code",
   "execution_count": null,
   "metadata": {},
   "outputs": [],
   "source": [
    "data_vars = {\n",
    "    name: (dims, stack_rows(name))\n",
    "    for name, dims in shapes.items()\n",
    "}\n",
    "data_vars"
   ]
  },
  {
   "cell_type": "code",
   "execution_count": null,
   "metadata": {},
   "outputs": [],
   "source": [
    "frames = xr.Dataset(data_vars)\n",
    "frames"
   ]
  },
  {
   "cell_type": "code",
   "execution_count": null,
   "metadata": {},
   "outputs": [],
   "source": [
    "# In case I was right about the dipoles\n",
    "dipoles = data_vars['dipoles'][1]\n",
    "dip_perm = dipoles[:,:3,:]\n",
    "dip_trans = dipoles[:,3:,:]\n",
    "del(data_vars['dipoles'])\n",
    "\n",
    "data_vars['dip_perm'] = (['frame', 'state', 'direction'], dip_perm)\n",
    "data_vars['dip_trans'] = (['frame', 'statecomb', 'direction'], dip_trans)"
   ]
  },
  {
   "cell_type": "code",
   "execution_count": null,
   "metadata": {},
   "outputs": [],
   "source": [
    "frames = xr.Dataset(data_vars)\n",
    "frames"
   ]
  },
  {
   "cell_type": "code",
   "execution_count": null,
   "metadata": {},
   "outputs": [],
   "source": [
    "frames.to_netcdf('/tmp/output.nc', engine='h5netcdf')"
   ]
  }
 ],
 "metadata": {
  "kernelspec": {
   "display_name": "shnitsel",
   "language": "python",
   "name": "python3"
  },
  "language_info": {
   "codemirror_mode": {
    "name": "ipython",
    "version": 3
   },
   "file_extension": ".py",
   "mimetype": "text/x-python",
   "name": "python",
   "nbconvert_exporter": "python",
   "pygments_lexer": "ipython3",
   "version": "3.12.1"
  }
 },
 "nbformat": 4,
 "nbformat_minor": 2
}
