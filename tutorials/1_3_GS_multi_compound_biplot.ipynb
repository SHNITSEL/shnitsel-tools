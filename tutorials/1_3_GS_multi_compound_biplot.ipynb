{
 "cells": [
  {
   "cell_type": "markdown",
   "metadata": {},
   "source": [
    "# Multi-compound biplot"
   ]
  },
  {
   "cell_type": "code",
   "execution_count": null,
   "metadata": {},
   "outputs": [],
   "source": [
    "from IPython.display import display\n",
    "import matplotlib.pyplot as plt\n",
    "\n",
    "import shnitsel as sh\n",
    "import shnitsel.xarray\n",
    "\n",
    "from rdkit.Chem.Draw import IPythonConsole\n",
    "IPythonConsole.drawOptions.addAtomIndices = True"
   ]
  },
  {
   "cell_type": "markdown",
   "metadata": {},
   "source": [
    "## Load molecules"
   ]
  },
  {
   "cell_type": "code",
   "execution_count": null,
   "metadata": {},
   "outputs": [],
   "source": [
    "# This tutorial follows after walkthroughs/2_pca_across_compounds.ipynb\n",
    "# Please run that notebook first to obtain homologs.nc\n",
    "\n",
    "homologs = sh.open_frames('/tmp/homologs.nc')\n",
    "homologs"
   ]
  },
  {
   "cell_type": "markdown",
   "metadata": {},
   "source": [
    "## Pairwise distance PCA fitted over all analogical compounds"
   ]
  },
  {
   "cell_type": "code",
   "execution_count": null,
   "metadata": {},
   "outputs": [],
   "source": [
    "pca = homologs.atXYZ.sh.pairwise_dists_pca()\n",
    "pca"
   ]
  },
  {
   "cell_type": "code",
   "execution_count": null,
   "metadata": {},
   "outputs": [],
   "source": [
    "fig, axs = plt.subplot_mosaic([['I01', 'A01'],['A02', 'A03']], layout='constrained')\n",
    "\n",
    "for name, ax in axs.items():\n",
    "    ax.set_title(name)\n",
    "    for (cmpnd, trajid), traj in pca.sh.mgroupby(['cmpnd', 'trajid']):\n",
    "        ax.plot(traj[:,0], traj[:,1], c='#ccc')\n",
    "\n",
    "for (cmpnd, trajid), traj in pca.sh.mgroupby(['cmpnd', 'trajid']):\n",
    "        axs[cmpnd].plot(traj[:,0], traj[:,1], c='#2c3e50')\n",
    "\n",
    "fig.supxlabel('PC1')\n",
    "fig.supylabel('PC2')"
   ]
  },
  {
   "cell_type": "code",
   "execution_count": null,
   "metadata": {},
   "outputs": [],
   "source": [
    "plt.rc('font', size=16)\n",
    "plt.rc('lines', linewidth=1)\n",
    "fig, ax = plt.subplots(1,1)\n",
    "fig.set_size_inches(4, 5)\n",
    "for (cmpnd, trajid), traj in pca.sh.mgroupby(['cmpnd', 'trajid']):\n",
    "    if cmpnd == 'A03':\n",
    "        ax.plot(traj[:,0], traj[:,1], c='#2c3e50', zorder=10)\n",
    "    else:\n",
    "        ax.plot(traj[:,0], traj[:,1], c='#ccc')\n",
    "\n",
    "ax.set_xlabel(\"PC1\")\n",
    "ax.set_ylabel(\"PC2\")\n",
    "# fig.savefig('/nc/reports/2025-06-30_4-step_figure/2.pdf')"
   ]
  },
  {
   "cell_type": "markdown",
   "metadata": {},
   "source": [
    "## Biplot of pairwise-distance PCA fitted to all analogs"
   ]
  },
  {
   "cell_type": "code",
   "execution_count": null,
   "metadata": {},
   "outputs": [],
   "source": [
    "sh.plot.biplot_kde(homologs, 3, 1, 0, 2, scatter_color='geo')\n",
    "display(homologs.atXYZ.sel(cmpnd='I01').isel(frame=0).sh.to_mol(+1,to2D=True))\n",
    "display(homologs.atXYZ.sel(cmpnd='A01').isel(frame=0).sh.to_mol(to2D=True))\n",
    "display(homologs.atXYZ.sel(cmpnd='A02').isel(frame=0).sh.to_mol(-3,to2D=True))\n",
    "display(homologs.atXYZ.sel(cmpnd='A03').isel(frame=0).sh.to_mol(-8,to2D=True))"
   ]
  },
  {
   "cell_type": "code",
   "execution_count": null,
   "metadata": {},
   "outputs": [],
   "source": [
    "sh.plot.biplot_kde(homologs.sel(frame=(homologs.cmpnd=='I01') | (homologs.cmpnd=='A01')), 3, 1, 0, 2, scatter_color='geo')"
   ]
  },
  {
   "cell_type": "markdown",
   "metadata": {},
   "source": [
    "The next plot is somewhat redundant, but illustrates how to colour a PCA by dihedral directly:"
   ]
  },
  {
   "cell_type": "code",
   "execution_count": null,
   "metadata": {},
   "outputs": [],
   "source": [
    "pca = homologs.atXYZ.sh.pairwise_dists_pca()\n",
    "dih = homologs.atXYZ.sh.dihedral(3, 1, 0, 2, deg=True)\n",
    "pca['dih'] = dih\n",
    "plt.scatter(pca[:, 0], pca[:, 1], c=pca['dih'], s=0.2, alpha=0.5)\n",
    "plt.xlabel('PC1')\n",
    "plt.ylabel('PC2')\n",
    "plt.colorbar(label=dih.attrs['long_name'] + ' / °')"
   ]
  }
 ],
 "metadata": {
  "kernelspec": {
   "display_name": ".venv",
   "language": "python",
   "name": "python3"
  },
  "language_info": {
   "codemirror_mode": {
    "name": "ipython",
    "version": 3
   },
   "file_extension": ".py",
   "mimetype": "text/x-python",
   "name": "python",
   "nbconvert_exporter": "python",
   "pygments_lexer": "ipython3",
   "version": "3.12.7"
  }
 },
 "nbformat": 4,
 "nbformat_minor": 2
}
