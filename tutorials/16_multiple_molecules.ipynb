{
 "cells": [
  {
   "cell_type": "markdown",
   "metadata": {},
   "source": [
    "# PCA of multiple molecules"
   ]
  },
  {
   "cell_type": "markdown",
   "metadata": {},
   "source": [
    "## Isoelectronics: ethene and methylene immonium"
   ]
  },
  {
   "cell_type": "code",
   "execution_count": null,
   "metadata": {},
   "outputs": [],
   "source": [
    "import matplotlib.pyplot as plt\n",
    "import xarray as xr\n",
    "\n",
    "import shnitsel as sh\n",
    "import shnitsel.xarray"
   ]
  },
  {
   "cell_type": "code",
   "execution_count": null,
   "metadata": {},
   "outputs": [],
   "source": [
    "A01 = sh.open_frames('/nc/reports/2025-05-21_datasheets/filtered_C2H4.nc')\n",
    "I01 = sh.open_frames('/nc/SHNITSEL_databases/dynamic/I01_ch2nh2_dynamic.nc')"
   ]
  },
  {
   "cell_type": "code",
   "execution_count": null,
   "metadata": {},
   "outputs": [],
   "source": [
    "I01.sh.expand_midx('frame', 'cmpnd', 'I01')"
   ]
  },
  {
   "cell_type": "code",
   "execution_count": null,
   "metadata": {},
   "outputs": [],
   "source": [
    "isoelec = xr.concat(\n",
    "    [\n",
    "        A01.sh.expand_midx('frame', 'cmpnd', 'A01'),\n",
    "        I01.sh.expand_midx('frame', 'cmpnd', 'I01')\n",
    "    ],\n",
    "    dim='frame'\n",
    ")\n",
    "isoelec"
   ]
  },
  {
   "cell_type": "code",
   "execution_count": null,
   "metadata": {},
   "outputs": [],
   "source": [
    "pca = isoelec.atXYZ.sh.subtract_combinations('atom').sh.norm('direction').sh.pca('atomcomb')\n",
    "pca"
   ]
  },
  {
   "cell_type": "code",
   "execution_count": null,
   "metadata": {},
   "outputs": [],
   "source": [
    "plt.scatter(pca[:,0], pca[:,1], s=0.1, c=xr.where(pca.cmpnd=='A01', 0, 1))"
   ]
  },
  {
   "cell_type": "code",
   "execution_count": null,
   "metadata": {},
   "outputs": [],
   "source": [
    "for lcmpnd, cmpnd in pca.groupby('cmpnd'):\n",
    "    for ltraj, traj in cmpnd.groupby('trajid'):\n",
    "        c = 'b' if lcmpnd == 'I01' else 'r'\n",
    "        plt.plot(traj[:,0], traj[:,1], c=c, alpha=0.5)"
   ]
  },
  {
   "cell_type": "markdown",
   "metadata": {},
   "source": [
    "## Now parts of homologous series"
   ]
  },
  {
   "cell_type": "code",
   "execution_count": null,
   "metadata": {},
   "outputs": [],
   "source": [
    "A02 = sh.open_frames('/nc/reports/2025-05-21_datasheets/filtered_C3H6.nc')\n",
    "A03 = sh.open_frames('/nc/reports/2025-05-21_datasheets/filtered_C4H8_g0.nc')"
   ]
  },
  {
   "cell_type": "code",
   "execution_count": null,
   "metadata": {},
   "outputs": [],
   "source": [
    "def vis(frames, charge=0):\n",
    "    mol = sh.dynamic.filter_unphysical.mol_from_atXYZ(\n",
    "        frames.atXYZ.isel(frame=0), charge=charge, to2D=True\n",
    "    )\n",
    "    for atom in mol.GetAtoms():\n",
    "        atom.SetProp(\"atomNote\", str(atom.GetIdx()))\n",
    "    return mol"
   ]
  },
  {
   "cell_type": "code",
   "execution_count": null,
   "metadata": {},
   "outputs": [],
   "source": [
    "vis(A01, 0)"
   ]
  },
  {
   "cell_type": "code",
   "execution_count": null,
   "metadata": {},
   "outputs": [],
   "source": [
    "vis(I01, +1)"
   ]
  },
  {
   "cell_type": "code",
   "execution_count": null,
   "metadata": {},
   "outputs": [],
   "source": [
    "vis(A02)"
   ]
  },
  {
   "cell_type": "code",
   "execution_count": null,
   "metadata": {},
   "outputs": [],
   "source": [
    "# Renumber: 4 <-> 5\n",
    "A02new = A02.isel(atom=slice(0,6)).assign_coords(atom=[0, 1, 2, 3, 5, 4]).sortby('atom')\n",
    "vis(A02new, -3)"
   ]
  },
  {
   "cell_type": "code",
   "execution_count": null,
   "metadata": {},
   "outputs": [],
   "source": [
    "vis(A03)"
   ]
  },
  {
   "cell_type": "code",
   "execution_count": null,
   "metadata": {},
   "outputs": [],
   "source": [
    "# Renumber: 0->3, 1->1, 2->0, 3->2, 4->4, 5->5,\n",
    "A03new = A03.isel(atom=[0,1,2,3,7,8]).assign_coords(atom=[3, 1, 0, 2, 4, 5]).sortby('atom')\n",
    "vis(A03new, -8)"
   ]
  },
  {
   "cell_type": "code",
   "execution_count": null,
   "metadata": {},
   "outputs": [],
   "source": [
    "homologs = xr.concat(\n",
    "    [\n",
    "        A01.sh.expand_midx('frame', 'cmpnd', 'A01'),\n",
    "        I01.sh.expand_midx('frame', 'cmpnd', 'I01'),\n",
    "        A02new.sh.expand_midx('frame', 'cmpnd', 'A02'),\n",
    "        A03new.sh.expand_midx('frame', 'cmpnd', 'A03')\n",
    "    ],\n",
    "    dim='frame',\n",
    "    coords='minimal',\n",
    "    compat='override'\n",
    ")\n",
    "homologs"
   ]
  },
  {
   "cell_type": "code",
   "execution_count": null,
   "metadata": {},
   "outputs": [],
   "source": [
    "pwdist = homologs.atXYZ.sh.subtract_combinations('atom').sh.norm('direction')\n",
    "pca = pwdist.sh.pca('atomcomb')\n",
    "plt.scatter(pca[:,0], pca[:,1], s=0.1, c=xr.where(pca.cmpnd=='A01', 0, 1))\n",
    "for lcmpnd, cmpnd in pca.groupby('cmpnd'):\n",
    "    for ltraj, traj in cmpnd.groupby('trajid'):\n",
    "        c = {\n",
    "            'A01': 'r', \n",
    "            'A02': 'g', \n",
    "            'A03': 'b', \n",
    "            'I01': 'y', \n",
    "        }[lcmpnd]\n",
    "        plt.plot(traj[:,0], traj[:,1], c=c, alpha=0.5)"
   ]
  },
  {
   "cell_type": "code",
   "execution_count": null,
   "metadata": {},
   "outputs": [],
   "source": [
    "fig, axs = plt.subplot_mosaic([['I01', 'A01'],['A02', 'A03']], layout='constrained')\n",
    "\n",
    "# grey background\n",
    "for ax in axs.values():\n",
    "    for _, traj in pca.groupby('trajid'):\n",
    "        ax.plot(traj[:,0], traj[:,1], c='gray', alpha=0.5)\n",
    "\n",
    "for name, cmpnd in pca.groupby('cmpnd'):\n",
    "    ax = axs[name]\n",
    "    for _, traj in cmpnd.groupby('trajid'):\n",
    "        ax.plot(traj[:,0], traj[:,1], c='red', alpha=0.5)\n",
    "    ax.set_title(name)\n"
   ]
  },
  {
   "cell_type": "markdown",
   "metadata": {},
   "source": [
    "### Filter by PCA-adventurousness"
   ]
  },
  {
   "cell_type": "code",
   "execution_count": null,
   "metadata": {},
   "outputs": [],
   "source": [
    "fpca = sh.xrhelpers.flatten_levels(pca, 'frame', ['cmpnd', 'trajid'])\n",
    "fpca"
   ]
  },
  {
   "cell_type": "code",
   "execution_count": null,
   "metadata": {},
   "outputs": [],
   "source": [
    "adventurousness = fpca.sh.norm('PC').groupby('trajid').max()\n",
    "upca = fpca.sh.sel_trajids(adventurousness[adventurousness < 0.2].trajid)\n",
    "upca"
   ]
  },
  {
   "cell_type": "code",
   "execution_count": null,
   "metadata": {},
   "outputs": [],
   "source": [
    "fig, axs = plt.subplot_mosaic([['I01', 'A01'],['A02', 'A03']], layout='constrained')\n",
    "\n",
    "for name, ax in axs.items():\n",
    "    ax.set_title(name)\n",
    "    for (cmpnd, trajid), traj in fpca.groupby('trajid'):\n",
    "        ax.plot(traj[:,0], traj[:,1], c='gray', alpha=0.5)\n",
    "\n",
    "for (cmpnd, trajid), traj in upca.groupby('trajid'):\n",
    "        axs[cmpnd].plot(traj[:,0], traj[:,1], c='r', alpha=0.5)"
   ]
  },
  {
   "cell_type": "code",
   "execution_count": null,
   "metadata": {},
   "outputs": [],
   "source": [
    "fig, axs = plt.subplot_mosaic([['I01', 'A01'],['A02', 'A03']], layout='constrained')\n",
    "\n",
    "for name, ax in axs.items():\n",
    "    ax.set_title(name)\n",
    "    for (cmpnd, trajid), traj in upca.groupby('trajid'):\n",
    "        ax.plot(traj[:,0], traj[:,1], c='gray', alpha=0.5)\n",
    "\n",
    "for (cmpnd, trajid), traj in upca.groupby('trajid'):\n",
    "        axs[cmpnd].plot(traj[:,0], traj[:,1], c='r', alpha=0.5)"
   ]
  },
  {
   "cell_type": "markdown",
   "metadata": {},
   "source": [
    "## Changes over time"
   ]
  },
  {
   "cell_type": "code",
   "execution_count": null,
   "metadata": {},
   "outputs": [],
   "source": [
    "homologs.sh.get_inter_state().energy.sh.time_grouped_ci()"
   ]
  },
  {
   "cell_type": "code",
   "execution_count": null,
   "metadata": {},
   "outputs": [],
   "source": [
    "ise = homologs.sh.get_inter_state().energy\n",
    "fig, axs = plt.subplot_mosaic(\n",
    "    ise.statecomb.values[::-1, None], layout='constrained', sharey=True\n",
    ")\n",
    "for lcmpnd, cmpnd in ise.groupby('cmpnd'):\n",
    "    ci = cmpnd.sh.time_grouped_ci()\n",
    "    label = lcmpnd\n",
    "    for lsc, sc in ci.groupby('statecomb'):\n",
    "        sc = sc.squeeze('statecomb')\n",
    "        ax = axs[lsc]\n",
    "        ax.set_title(lsc)\n",
    "        ax.plot('time', 'mean', data=sc, lw=0.5, label=label)\n",
    "        label = '' # To avoid duplicate labels in the legend\n",
    "        ax.fill_between('time', 'upper', 'lower', data=sc, alpha=0.3)\n",
    "\n",
    "list(axs.values())[-1].set_xlabel(\"$t$ / fs\")\n",
    "for ax in axs.values():\n",
    "    ax.set_ylabel(r\"$\\Delta E$ / eV\")\n",
    "fig.legend()"
   ]
  },
  {
   "cell_type": "code",
   "execution_count": null,
   "metadata": {},
   "outputs": [],
   "source": [
    "label_ls = True\n",
    "for lcmpnd, cmpnd in homologs.groupby('cmpnd'):\n",
    "    pops = cmpnd.sh.calc_pops()\n",
    "    c = {\n",
    "            'A01': 'r', \n",
    "            'A02': 'g', \n",
    "            'A03': 'b', \n",
    "            'I01': 'purple', \n",
    "    }[lcmpnd]\n",
    "    label = lcmpnd\n",
    "    for lstate, state in pops.groupby('state'):\n",
    "        ls = {1: '-', 2: '--', 3: ':'}[lstate]\n",
    "        if label_ls:\n",
    "            label += f' state {lstate}'\n",
    "        plt.plot(state['time'], state, c=c, ls=ls, label=label, lw=0.5)\n",
    "        label=''\n",
    "    label_ls = False\n",
    "\n",
    "plt.legend()\n",
    "plt.xlabel('$t$ / fs')\n",
    "plt.ylabel('Population')"
   ]
  },
  {
   "cell_type": "markdown",
   "metadata": {},
   "source": [
    "# Dihedrals"
   ]
  },
  {
   "cell_type": "code",
   "execution_count": null,
   "metadata": {},
   "outputs": [],
   "source": [
    "A01.atXYZ.attrs['smiles_map'] = A01.atXYZ.isel(frame=0).sh.smiles_map()\n",
    "I01.atXYZ.attrs['smiles_map'] = I01.atXYZ.isel(frame=0).sh.smiles_map(charge=+1)\n",
    "A02new.atXYZ.attrs['smiles_map'] = A02new.atXYZ.isel(frame=0).sh.smiles_map(charge=-3)\n",
    "A03new.atXYZ.attrs['smiles_map'] = A03new.atXYZ.isel(frame=0).sh.smiles_map(charge=-8)"
   ]
  },
  {
   "cell_type": "code",
   "execution_count": null,
   "metadata": {},
   "outputs": [],
   "source": [
    "ncA01 = sh.dynamic.filter_unphysical.filter_cleavage(A01, CC=True, CH=True)\n",
    "ncI01 = sh.dynamic.filter_unphysical.filter_cleavage(I01, CC=False, CH=True)\n",
    "ncA02 = sh.dynamic.filter_unphysical.filter_cleavage(A02new, CC=True, CH=True)\n",
    "ncA03 = sh.dynamic.filter_unphysical.filter_cleavage(A03new, CC=True, CH=True)"
   ]
  },
  {
   "cell_type": "code",
   "execution_count": null,
   "metadata": {},
   "outputs": [],
   "source": [
    "\n",
    "nchomologs = xr.concat(\n",
    "    [\n",
    "        ncA01.sh.expand_midx('frame', 'cmpnd', 'A01'),\n",
    "        ncI01.sh.expand_midx('frame', 'cmpnd', 'I01'),\n",
    "        ncA02.sh.expand_midx('frame', 'cmpnd', 'A02'),\n",
    "        ncA03.sh.expand_midx('frame', 'cmpnd', 'A03')\n",
    "    ],\n",
    "    dim='frame',\n",
    "    coords='minimal',\n",
    "    compat='override'\n",
    ")\n",
    "nchomologs"
   ]
  },
  {
   "cell_type": "code",
   "execution_count": null,
   "metadata": {},
   "outputs": [],
   "source": [
    "fdihs = nchomologs.atXYZ.sh.dihedral(2, 0, 1, 3, full=True)"
   ]
  },
  {
   "cell_type": "code",
   "execution_count": null,
   "metadata": {},
   "outputs": [],
   "source": [
    "fig, ax = plt.subplots(1,1, subplot_kw={'projection': 'polar'}, dpi=400)\n",
    "for lcmpnd, cmpnd in fdihs.groupby('cmpnd'):\n",
    "    c = {\n",
    "            'A01': 'r', \n",
    "            'A02': 'g', \n",
    "            'A03': 'b', \n",
    "            'I01': 'y', \n",
    "    }[lcmpnd]\n",
    "    for ltraj, traj in cmpnd.groupby('trajid'):\n",
    "        c = 'b' if traj.sel(time = 7) < 0 else 'r'\n",
    "        ax.plot(\n",
    "            traj if c=='r' else -traj,\n",
    "            traj.time, c='k', lw=0.1\n",
    "        )\n",
    "    break"
   ]
  },
  {
   "cell_type": "markdown",
   "metadata": {},
   "source": [
    "# Identify clusters\n",
    "Over all homologs/isoelectronics"
   ]
  },
  {
   "cell_type": "markdown",
   "metadata": {},
   "source": [
    "## 1. On the frame level"
   ]
  },
  {
   "cell_type": "markdown",
   "metadata": {},
   "source": [
    "### 1.1 $k$-means on frames before PCA"
   ]
  },
  {
   "cell_type": "code",
   "execution_count": null,
   "metadata": {},
   "outputs": [],
   "source": [
    "from sklearn.cluster import KMeans"
   ]
  },
  {
   "cell_type": "code",
   "execution_count": null,
   "metadata": {},
   "outputs": [],
   "source": [
    "pwdist"
   ]
  },
  {
   "cell_type": "code",
   "execution_count": null,
   "metadata": {},
   "outputs": [],
   "source": [
    "kmc = KMeans(n_clusters=9)\n",
    "pwdist = pwdist.transpose('frame', 'atomcomb')\n",
    "kmc.fit(pwdist)\n",
    "res_kmc = kmc.predict(pwdist)\n",
    "pca['cluster'] = 'frame', res_kmc\n",
    "\n",
    "plt.scatter(pca[:,0], pca[:,1], c=res_kmc, s=0.1)\n",
    "for lcmpnd, cmpnd in pca.groupby('cmpnd'):\n",
    "    for ltraj, traj in cmpnd.groupby('trajid'):\n",
    "        point = traj.isel(frame=-1)\n",
    "        plt.text(point.item(0), point.item(1), point.cluster.item())"
   ]
  },
  {
   "cell_type": "markdown",
   "metadata": {},
   "source": [
    "### 1.2. $k$-means on frames _after_ PCA"
   ]
  },
  {
   "cell_type": "code",
   "execution_count": null,
   "metadata": {},
   "outputs": [],
   "source": [
    "kmc = KMeans(n_clusters=9)\n",
    "res_kmc = kmc.fit(pca).predict(pca)\n",
    "pca['cluster'] = 'frame', res_kmc\n",
    "plt.scatter(pca[:, 0], pca[:, 1], c=res_kmc, s=0.1)\n",
    "for lcmpnd, cmpnd in pca.groupby('cmpnd'):\n",
    "    for ltraj, traj in cmpnd.groupby('trajid'):\n",
    "        point = traj.isel(frame=-1)\n",
    "        plt.text(point.item(0), point.item(1), point.cluster.item())"
   ]
  },
  {
   "cell_type": "markdown",
   "metadata": {},
   "source": [
    "### 1.3 Other clustering methods on frames\n",
    "(Takes ages, non-viable)"
   ]
  },
  {
   "cell_type": "code",
   "execution_count": null,
   "metadata": {},
   "outputs": [],
   "source": [
    "# from sklearn.cluster import DBSCAN\n",
    "# res_sc = DBSCAN().fit_predict(pwdist)\n",
    "# pca['cluster'] = 'frame', res_sc\n",
    "# plt.scatter(pca[:, 0], pca[:, 1], c=res_sc, s=0.1)\n",
    "# for lcmpnd, cmpnd in pca.groupby('cmpnd'):\n",
    "#     for ltraj, traj in cmpnd.groupby('trajid'):\n",
    "#         point = traj.isel(frame=-1)\n",
    "#         plt.text(point.item(0), point.item(1), point.cluster.item())"
   ]
  },
  {
   "cell_type": "code",
   "execution_count": null,
   "metadata": {},
   "outputs": [],
   "source": [
    "# from sklearn.cluster import AgglomerativeClustering\n",
    "# res_sc = AgglomerativeClustering().fit_predict(pwdist)\n",
    "# pca['cluster'] = 'frame', res_sc\n",
    "# plt.scatter(pca[:, 0], pca[:, 1], c=res_sc, s=0.1)\n",
    "# for lcmpnd, cmpnd in pca.groupby('cmpnd'):\n",
    "#     for ltraj, traj in cmpnd.groupby('trajid'):\n",
    "#         point = traj.isel(frame=-1)\n",
    "#         plt.text(point.item(0), point.item(1), point.cluster.item())"
   ]
  },
  {
   "cell_type": "markdown",
   "metadata": {},
   "source": [
    "## 2. On the trajectory level"
   ]
  },
  {
   "cell_type": "markdown",
   "metadata": {},
   "source": [
    "### 2.1 Cluster trajectories by final frame"
   ]
  },
  {
   "cell_type": "markdown",
   "metadata": {},
   "source": [
    "### 2.2 Cluster trajectories by final frame _after_ PCA"
   ]
  },
  {
   "cell_type": "code",
   "execution_count": null,
   "metadata": {},
   "outputs": [],
   "source": [
    "kmc = KMeans(n_clusters=7)\n",
    "pca_final_frames = (\n",
    "    pca\n",
    "    .groupby('cmpnd').map(\n",
    "        lambda cmpnd: cmpnd.groupby('trajid').map(\n",
    "            lambda traj: traj.isel(frame=-1)\n",
    "        )\n",
    "    )\n",
    "    .stack(traj=['cmpnd', 'trajid'])\n",
    "    .dropna('traj', how='all')\n",
    "    .transpose('traj', 'PC')\n",
    ")\n",
    "pca_final_frames"
   ]
  },
  {
   "cell_type": "code",
   "execution_count": null,
   "metadata": {},
   "outputs": [],
   "source": [
    "# Better approach?\n",
    "\n",
    "# (\n",
    "#     pca\n",
    "#     .reset_index('frame')\n",
    "#     .assign_coords(\n",
    "#         trajid=pca\n",
    "#             .indexes['frame']\n",
    "#             .map(lambda x: '_'.join([x[0], str(x[1])]))\n",
    "#     )\n",
    "#     .drop_vars('cmpnd')\n",
    "# )"
   ]
  },
  {
   "cell_type": "code",
   "execution_count": null,
   "metadata": {},
   "outputs": [],
   "source": [
    "res_kmc = kmc.fit(pca_final_frames).predict(pca_final_frames)\n",
    "res_kmc = pca_final_frames.isel(PC=0).copy(data=res_kmc)\n",
    "res_kmc"
   ]
  },
  {
   "cell_type": "code",
   "execution_count": null,
   "metadata": {},
   "outputs": [],
   "source": [
    "pca['cluster'] = res_kmc\n",
    "plt.scatter(pca[:, 0], pca[:, 1], c=res_kmc, s=0.1)\n",
    "for lcmpnd, cmpnd in pca.groupby('cmpnd'):\n",
    "    for ltraj, traj in cmpnd.groupby('trajid'):\n",
    "        point = traj.isel(frame=-1)\n",
    "        plt.text(point.item(0), point.item(1), point.cluster.item())"
   ]
  },
  {
   "cell_type": "code",
   "execution_count": null,
   "metadata": {},
   "outputs": [],
   "source": [
    "cmap = plt.get_cmap('viridis').resampled(12).colors\n",
    "fig, axs = plt.subplot_mosaic([['I01', 'A01'],['A02', 'A03']], layout='constrained')\n",
    "\n",
    "# grey background\n",
    "for ax in axs.values():\n",
    "    for _, traj in pca.groupby('trajid'):\n",
    "        ax.plot(traj[:,0], traj[:,1], c='gray', alpha=0.5)\n",
    "\n",
    "for name, cmpnd in pca.groupby('cmpnd'):\n",
    "    seen_clusters = []\n",
    "    ax = axs[name]\n",
    "    for trajid, traj in cmpnd.groupby('trajid'):\n",
    "        cluster = res_kmc.sel(cmpnd=name, trajid=trajid).item()\n",
    "        c = cmap[cluster]\n",
    "        ax.plot(traj[:,0], traj[:,1], c=c, alpha=0.5, label='' if cluster in seen_clusters else cluster)\n",
    "        seen_clusters.append(cluster)\n",
    "        point = traj.isel(frame=-1)\n",
    "        ax.text(point.item(0), point.item(1), point.cluster.item()) # WRONG!\n",
    "    ax.set_title(name)\n",
    "    ax.legend()"
   ]
  },
  {
   "cell_type": "code",
   "execution_count": null,
   "metadata": {},
   "outputs": [],
   "source": [
    "for trajid, traj in pca.groupby('trajid'):\n",
    "    print(trajid, traj.cmpnd)\n",
    "    break\n",
    "    plt.scatter(pca[:, 0], pca[:, 1], c=res_kmc, s=0.1)"
   ]
  },
  {
   "cell_type": "markdown",
   "metadata": {},
   "source": [
    "### (Previous work)"
   ]
  },
  {
   "cell_type": "code",
   "execution_count": null,
   "metadata": {},
   "outputs": [],
   "source": [
    "upwdist = pwdist.unstack('frame').stack(traj=['cmpnd', 'trajid']).stack(special=['time', 'atomcomb']).dropna('traj', how='all')\n",
    "upwdist"
   ]
  },
  {
   "cell_type": "code",
   "execution_count": null,
   "metadata": {},
   "outputs": [],
   "source": [
    "dupwdist = upwdist.dropna('special', how='any')#.dropna('traj', how='any'))\n",
    "dupwdist"
   ]
  },
  {
   "cell_type": "code",
   "execution_count": null,
   "metadata": {},
   "outputs": [],
   "source": [
    "dupwdist.isel(special=0)"
   ]
  },
  {
   "cell_type": "code",
   "execution_count": null,
   "metadata": {},
   "outputs": [],
   "source": [
    "kmc = KMeans(n_clusters=10)\n",
    "kmc.fit(dupwdist)\n",
    "res_kmc = kmc.predict(dupwdist)\n",
    "tmp = dupwdist.isel(special=0).drop_vars(['special', 'time', 'atomcomb'])\n",
    "res_kmc = tmp.copy(data=res_kmc)\n",
    "res_kmc"
   ]
  },
  {
   "cell_type": "code",
   "execution_count": null,
   "metadata": {},
   "outputs": [],
   "source": [
    "cmap = plt.get_cmap('tab10').colors#.resampled(12).colors"
   ]
  },
  {
   "cell_type": "code",
   "execution_count": null,
   "metadata": {},
   "outputs": [],
   "source": [
    "fig, axs = plt.subplot_mosaic([['I01', 'A01'],['A02', 'A03']], layout='constrained')\n",
    "\n",
    "# grey background\n",
    "for ax in axs.values():\n",
    "    for _, traj in pca.groupby('trajid'):\n",
    "        ax.plot(traj[:,0], traj[:,1], c='gray', alpha=0.5)\n",
    "\n",
    "for name, cmpnd in pca.groupby('cmpnd'):\n",
    "    seen_clusters = []\n",
    "    ax = axs[name]\n",
    "    for trajid, traj in cmpnd.groupby('trajid'):\n",
    "        cluster = res_kmc.sel(cmpnd=name, trajid=trajid).item()\n",
    "        c = cmap[cluster]\n",
    "        ax.plot(traj[:,0], traj[:,1], c=c, alpha=0.5, label='' if cluster in seen_clusters else cluster)\n",
    "        seen_clusters.append(cluster)\n",
    "    ax.set_title(name)\n",
    "    ax.legend()"
   ]
  }
 ],
 "metadata": {
  "kernelspec": {
   "display_name": ".venv",
   "language": "python",
   "name": "python3"
  },
  "language_info": {
   "codemirror_mode": {
    "name": "ipython",
    "version": 3
   },
   "file_extension": ".py",
   "mimetype": "text/x-python",
   "name": "python",
   "nbconvert_exporter": "python",
   "pygments_lexer": "ipython3",
   "version": "3.12.7"
  }
 },
 "nbformat": 4,
 "nbformat_minor": 2
}
