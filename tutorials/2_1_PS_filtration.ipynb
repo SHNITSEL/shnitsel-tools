{
 "cells": [
  {
   "cell_type": "code",
   "execution_count": null,
   "metadata": {},
   "outputs": [],
   "source": [
    "import xarray as xr\n",
    "\n",
    "import shnitsel as sh\n",
    "import shnitsel.xarray"
   ]
  },
  {
   "cell_type": "markdown",
   "metadata": {},
   "source": [
    "## Load ensembles"
   ]
  },
  {
   "cell_type": "code",
   "execution_count": null,
   "metadata": {},
   "outputs": [],
   "source": [
    "cpnds = {}\n",
    "for cpnd in ['C2H4', 'C3H6', 'C4H8']:\n",
    "    print(\"\\t\", cpnd)\n",
    "    cpnds[cpnd] = sh.parse.read_trajs(f'/traj/SHNITSEL_alkenes/traj_{cpnd}/', kind='sharc', parallel=True)"
   ]
  },
  {
   "cell_type": "markdown",
   "metadata": {},
   "source": [
    "### Checkpoint: loading complete"
   ]
  },
  {
   "cell_type": "code",
   "execution_count": null,
   "metadata": {},
   "outputs": [],
   "source": [
    "# for cpnd in cpnds:\n",
    "    # cpnds[cpnd].sh.save_frames(f'/tmp/raw_{cpnd}.nc')"
   ]
  },
  {
   "cell_type": "code",
   "execution_count": null,
   "metadata": {},
   "outputs": [],
   "source": [
    "cpnds = {}\n",
    "for cpnd in ['C2H4', 'C3H6', 'C4H8_g0']:\n",
    "    cpnds[cpnd] = sh.open_frames(f'/nc/2025-05-20/raw_{cpnd}.nc').sh.setup_frames()\n",
    "cpnds['C4H8'] = cpnds['C4H8_g0']\n",
    "del(cpnds['C4H8_g0'])"
   ]
  },
  {
   "cell_type": "code",
   "execution_count": null,
   "metadata": {},
   "outputs": [],
   "source": [
    "for cpnd in cpnds:\n",
    "    cpnds[cpnd] = cpnds[cpnd].sh.setup_frames()"
   ]
  },
  {
   "cell_type": "markdown",
   "metadata": {},
   "source": [
    "## Filter alkenes by energy"
   ]
  },
  {
   "cell_type": "code",
   "execution_count": null,
   "metadata": {},
   "outputs": [],
   "source": [
    "feat = cpnds['C2H4'].sh.energy_filtranda()\n",
    "feat"
   ]
  },
  {
   "cell_type": "code",
   "execution_count": null,
   "metadata": {},
   "outputs": [],
   "source": [
    "import numpy as np\n",
    "\n",
    "def last_time_where(mask):\n",
    "    mask = mask.unstack('frame', fill_value=False).transpose('trajid', 'time', ...)\n",
    "    idxs = np.logical_not((~mask.values).cumsum(axis=1)).sum(axis=1)\n",
    "    times = np.concat([[-1], mask.time.values])\n",
    "    return mask[:, 0].copy(data=times[idxs]).drop_vars('time').rename('time')\n",
    "\n",
    "last_time_where(feat['e_kin'] < 1)"
   ]
  },
  {
   "cell_type": "code",
   "execution_count": null,
   "metadata": {},
   "outputs": [],
   "source": [
    "masks = xr.Dataset(\n",
    "    {\n",
    "        'original'    : True,\n",
    "        'etot_window' : abs(feat['etot_drift']) < 0.2,\n",
    "        'etot_step'   : abs(feat['etot_step']) < 0.1,\n",
    "        'epot_step'   : (abs(feat['epot_step']) < 0.7) | feat['is_hop'],\n",
    "        'ekin_step'   : (abs(feat['ekin_step']) < 0.7) | feat['is_hop'],\n",
    "        'hop_epot'    : (abs(feat['epot_step']) < 1.0) | ~feat['is_hop'],\n",
    "    }\n",
    ").to_dataarray('cutoff')\n",
    "masks"
   ]
  },
  {
   "cell_type": "code",
   "execution_count": null,
   "metadata": {},
   "outputs": [],
   "source": [
    "cutoffs = last_time_where(masks)\n",
    "cutoffs"
   ]
  },
  {
   "cell_type": "code",
   "execution_count": null,
   "metadata": {},
   "outputs": [],
   "source": [
    "cutoffs['earliest'] = cutoffs.min('cutoff')\n",
    "cutoffs['reason'] = cutoffs.argmin('cutoff')\n",
    "cutoffs"
   ]
  },
  {
   "cell_type": "code",
   "execution_count": null,
   "metadata": {},
   "outputs": [],
   "source": [
    "cutoffs = {}\n",
    "for cpnd in cpnds:\n",
    "    feat = cpnds[cpnd].sh.energy_filtranda()\n",
    "    masks = xr.Dataset(\n",
    "        {\n",
    "            'original'    : True,\n",
    "            'etot_window' : abs(feat['etot_drift']) < 0.2,\n",
    "            'etot_step'   : abs(feat['etot_step']) < 0.1,\n",
    "            'epot_step'   : (abs(feat['epot_step']) < 0.7) | feat['is_hop'],\n",
    "            'ekin_step'   : (abs(feat['ekin_step']) < 0.7) | feat['is_hop'],\n",
    "            'hop_epot'    : (abs(feat['epot_step']) < 1.0) | ~feat['is_hop'],\n",
    "        }\n",
    "    ).to_dataarray('cutoff')\n",
    "    cutoffs[cpnd] = last_time_where(masks)\n"
   ]
  },
  {
   "cell_type": "code",
   "execution_count": null,
   "metadata": {},
   "outputs": [],
   "source": [
    "cpnds['C2H4'].atXYZ.isel(frame=0).sh.to_mol()"
   ]
  },
  {
   "cell_type": "code",
   "execution_count": null,
   "metadata": {},
   "outputs": [],
   "source": [
    "import matplotlib as mpl\n",
    "# cmap = mpl.colors.ListedColormap(['#7E5273', '#C4A000', '#2c3e50'])\n",
    "cmap = mpl.colors.ListedColormap(['#2c3e50'])\n",
    "cmap"
   ]
  },
  {
   "cell_type": "code",
   "execution_count": null,
   "metadata": {},
   "outputs": [],
   "source": [
    "import matplotlib.pyplot as plt\n",
    "import numpy as np\n",
    "\n",
    "fig, axs = plt.subplots(2, 3, sharey=False, constrained_layout=True, height_ratios=[1, 3])\n",
    "for (cn, c), axcol in zip(cutoffs.items(), axs.T):\n",
    "    nreasons = c.sizes['cutoff']\n",
    "    typefreqs = np.bincount(c.argmin('cutoff'), minlength=nreasons)\n",
    "    xticks = range(nreasons)\n",
    "    axcol[0].bar(xticks, typefreqs, color='#2c3e50')\n",
    "    axcol[0].set_xticks(xticks)\n",
    "    axcol[0].set_xticklabels(labels=c['cutoff'].data, rotation=45, ha='right')\n",
    "    axcol[0].set_title(cn)\n",
    "\n",
    "    sortorder = [c.isel(cutoff=i) for i in typefreqs.argsort()]\n",
    "    c = c.sortby([c.min('cutoff'), *sortorder])\n",
    "    # c = c.rolling(trajid=10).mean()\n",
    "    xticks = np.arange(c.sizes['trajid'])\n",
    "    i = 0\n",
    "    for i, (ctn, ctv) in enumerate(c.groupby('cutoff')):\n",
    "        ctv = ctv.squeeze()\n",
    "        # axcol[1].barh(xticks, ctv, height=1.0, alpha=0.5, color=cmap(i))\n",
    "        rolling = ctv.rolling(trajid=10).median()\n",
    "        axcol[1].fill_betweenx(xticks, rolling, alpha=0.2, color=cmap(i), lw=1, step='mid')\n",
    "        # axcol[1].fill_betweenx(xticks, ctv, alpha=0.1, color=cmap(i), lw=1, step='mid')\n",
    "        # if i < 2:\n",
    "        #     axcol[1].plot(ctv, xticks, lw=1, zorder=10, color=cmap(i))\n",
    "    axcol[1].plot(c.min('cutoff'), xticks, c='white', lw=1, zorder=10)\n",
    "    \n",
    "    axs[0,0].set_ylabel(\"# trajs truncated\\nfor given reason\")\n",
    "    axs[1,0].set_ylabel(\"trajs (sorted by earliest cutoff)\")\n",
    "    for ax in axs[1, :]:\n",
    "        ax.set_xlabel(\"$t$ / fs\")"
   ]
  },
  {
   "cell_type": "code",
   "execution_count": null,
   "metadata": {},
   "outputs": [],
   "source": [
    "import matplotlib as mpl\n",
    "def outlabel(ax, letter):\n",
    "    fixedtrans = mpl.transforms.ScaledTranslation(\n",
    "        -20 / 72, +7 / 72, ax.figure.dpi_scale_trans\n",
    "    )\n",
    "    transform = ax.transAxes + fixedtrans\n",
    "    return ax.text(\n",
    "        0.0,\n",
    "        1.0,\n",
    "        letter,\n",
    "        transform=transform,\n",
    "        va='bottom',\n",
    "        fontweight='bold',\n",
    "        bbox=dict(facecolor='0.9', edgecolor='none', pad=3.0),\n",
    "    )\n",
    "\n",
    "def inlabel(ax, letter):\n",
    "    return ax.annotate(\n",
    "        letter,\n",
    "        xy=(1, 1),\n",
    "        xycoords='axes fraction',\n",
    "        xytext=(-1, -0.5),\n",
    "        textcoords='offset fontsize',\n",
    "        va='top',\n",
    "        fontweight='bold',\n",
    "        bbox=dict(facecolor='0.9', edgecolor='none', pad=3.0),\n",
    "    )"
   ]
  },
  {
   "cell_type": "code",
   "execution_count": null,
   "metadata": {},
   "outputs": [],
   "source": [
    "import matplotlib.pyplot as plt\n",
    "import numpy as np\n",
    "\n",
    "fig, axs = plt.subplots(2, 2, sharey=False, constrained_layout=True, height_ratios=[1, 3])\n",
    "fig.set_size_inches(4.4, 4.8)\n",
    "axcols = [axs.T[0], None, axs.T[1]]\n",
    "titles = [r'C$_2$H$_4$ ($\\mathbf{A01}$)', None, r'C$_4$H$_8$ ($\\mathbf{A03}$)']\n",
    "for (cn, c), axcol, title in zip(cutoffs.items(), axcols, titles):\n",
    "    if cn == 'C3H6':\n",
    "        continue\n",
    "    nreasons = c.sizes['cutoff']\n",
    "    typefreqs = np.bincount(c.argmin('cutoff'), minlength=nreasons)\n",
    "    xticks = range(nreasons)\n",
    "    axcol[0].bar(xticks, typefreqs, color=cmap(0))\n",
    "    axcol[0].set_xticks(xticks)\n",
    "    axcol[0].set_xticklabels(labels=c['cutoff'].data, rotation=45, ha='right')\n",
    "    axcol[0].set_title(title)\n",
    "\n",
    "    # c = c.sortby([c.min('cutoff'), c.sel(cutoff='original')])\n",
    "    sortorder = [c.isel(cutoff=i) for i in typefreqs.argsort()]\n",
    "    c = c.sortby([c.min('cutoff'), *sortorder])\n",
    "    xticks = np.arange(c.sizes['trajid'])\n",
    "    for ctn, ctv in c.groupby('cutoff'):\n",
    "        ctv = ctv.squeeze()\n",
    "        # axcol[1].barh(xticks, ctv, height=1.0, alpha=0.5)\n",
    "        axcol[1].fill_betweenx(xticks, ctv, alpha=0.2, color=cmap(i), lw=1, step='mid')\n",
    "    axcol[1].plot(c.min('cutoff').where(c.min('cutoff') < cpnds[cn].time.max()), xticks, c='white', lw=1, zorder=10)\n",
    "        # if ctn == 'original'\n",
    "        # axcol[1].barh(xticks, ctv, height=1.0, alpha=0.5)\n",
    "\n",
    "    \n",
    "    axs[0,0].set_ylabel(\"# trajs truncated\\nfor given reason\")\n",
    "    axs[1,0].set_ylabel(\"trajs (sorted by earliest cutoff)\")\n",
    "    for ax in axs[1, :]:\n",
    "        ax.set_xlabel(\"$t$ / fs\")\n",
    "\n",
    "inlabel(axs[0,0], 'a')\n",
    "inlabel(axs[0,1], 'b')\n",
    "inlabel(axs[1,0], 'c')\n",
    "inlabel(axs[1,1], 'd')\n",
    "\n",
    "fig.savefig('/nc/reports/2025-06-30_4-step_figure/energy_filtration_stats.pdf')"
   ]
  },
  {
   "cell_type": "code",
   "execution_count": null,
   "metadata": {},
   "outputs": [],
   "source": [
    "cutoffs = {}\n",
    "for cpnd in cpnds:\n",
    "    feat = cpnds[cpnd].sh.energy_filtranda()\n",
    "    cutoffs[cpnd] = xr.Dataset(\n",
    "        {\n",
    "            'etot_window' : abs(feat['etot_drift']) < 0.2,\n",
    "            'etot_step'   : abs(feat['etot_step']) < 0.1,\n",
    "            'epot_step'   : (abs(feat['epot_step']) < 0.7) | feat['is_hop'],\n",
    "            'ekin_step'   : (abs(feat['ekin_step']) < 0.7) | feat['is_hop'],\n",
    "            'hop_epot'    : (abs(feat['epot_step']) < 1.0) | ~feat['is_hop'],\n",
    "        }\n",
    "    ).sh.get_cutoffs()"
   ]
  },
  {
   "cell_type": "code",
   "execution_count": null,
   "metadata": {},
   "outputs": [],
   "source": [
    "cutoffs['C2H4'].to_pandas()"
   ]
  },
  {
   "cell_type": "code",
   "execution_count": null,
   "metadata": {},
   "outputs": [],
   "source": [
    "import matplotlib.pyplot as plt\n",
    "import numpy as np\n",
    "\n",
    "fig, axs = plt.subplots(2, 3, sharey=False, constrained_layout=True, height_ratios=[1, 3])\n",
    "for (cn, c), axcol in zip(cutoffs.items(), axs.T):\n",
    "    nreasons = len(c.attrs['reasons'])\n",
    "    typefreqs = np.bincount(c['reason'], minlength=nreasons)\n",
    "    xticks = range(nreasons)\n",
    "    axcol[0].bar(xticks, typefreqs)\n",
    "    axcol[0].set_xticks(xticks)\n",
    "    axcol[0].set_xticklabels(labels=c.attrs['reasons'], rotation=45, ha='right')\n",
    "    axcol[0].set_title(cn)\n",
    "\n",
    "    da = c.to_dataarray('cutoff').sortby([c['earliest'], c['original']])\n",
    "    xticks = np.arange(da.sizes['trajid_'])\n",
    "    for ctn, ctv in da.groupby('cutoff'):\n",
    "        ctv = ctv.squeeze()\n",
    "        axcol[1].barh(xticks, ctv, height=1.0, alpha=0.5)\n",
    "    \n",
    "    axs[0,0].set_ylabel(\"# trajs truncated\\nfor given reason\")\n",
    "    axs[1,0].set_ylabel(\"$t$ / fs\")\n",
    "    for ax in axs[1, :]:\n",
    "        ax.set_xlabel(\"# trajs with this cutoff\")"
   ]
  },
  {
   "cell_type": "code",
   "execution_count": null,
   "metadata": {},
   "outputs": [],
   "source": [
    "efilt = {c: cpnds[c].sh.truncate(cutoffs[c]['earliest']) for c in cpnds}\n",
    "efilt['C2H4']"
   ]
  },
  {
   "cell_type": "markdown",
   "metadata": {},
   "source": [
    "## Eliminate overshort trajectories"
   ]
  },
  {
   "cell_type": "code",
   "execution_count": null,
   "metadata": {},
   "outputs": [],
   "source": [
    "efilt = {c: cpnds[c].sh.truncate(cutoffs[c]['earliest']) for c in cpnds}\n",
    "\n",
    "for cpnd in efilt:\n",
    "    threshold = cpnds[cpnd].coords['time'].max() * 0.25\n",
    "    last_times = efilt[cpnd].time.groupby('trajid').last()\n",
    "    osids = last_times[last_times < threshold].trajid\n",
    "    print(cpnd, ':', len(osids))\n",
    "    efilt[cpnd] = efilt[cpnd].sh.sel_trajs(osids, invert=True)"
   ]
  },
  {
   "cell_type": "markdown",
   "metadata": {},
   "source": [
    "## Summarize: numbers of trajetories and frames"
   ]
  },
  {
   "cell_type": "code",
   "execution_count": null,
   "metadata": {},
   "outputs": [],
   "source": [
    "for cpnd in cpnds:\n",
    "    print(cpnd)\n",
    "    b = cpnds[cpnd].sizes\n",
    "    a = efilt[cpnd].sizes\n",
    "    for x in ['trajid_', 'frame']:\n",
    "        print(f\"{x:<7} {b[x]:6} -> {a[x]: 6}  retaining {100*a[x]/b[x]:05.2f}%\")\n",
    "\n",
    "    print()"
   ]
  },
  {
   "cell_type": "markdown",
   "metadata": {},
   "source": [
    "### Checkpoint: filtration complete"
   ]
  },
  {
   "cell_type": "code",
   "execution_count": null,
   "metadata": {},
   "outputs": [],
   "source": [
    "for cpnd in cpnds:\n",
    "    efilt[cpnd].sh.save_frames(f'/tmp/filtered_{cpnd}.nc')"
   ]
  }
 ],
 "metadata": {
  "kernelspec": {
   "display_name": ".venv",
   "language": "python",
   "name": "python3"
  },
  "language_info": {
   "codemirror_mode": {
    "name": "ipython",
    "version": 3
   },
   "file_extension": ".py",
   "mimetype": "text/x-python",
   "name": "python",
   "nbconvert_exporter": "python",
   "pygments_lexer": "ipython3",
   "version": "3.12.7"
  }
 },
 "nbformat": 4,
 "nbformat_minor": 2
}
