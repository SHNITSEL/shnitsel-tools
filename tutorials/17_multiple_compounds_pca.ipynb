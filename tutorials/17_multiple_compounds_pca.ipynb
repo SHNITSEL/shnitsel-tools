{
 "cells": [
  {
   "cell_type": "markdown",
   "metadata": {},
   "source": [
    "# PCA of multiple molecules"
   ]
  },
  {
   "cell_type": "code",
   "execution_count": null,
   "metadata": {},
   "outputs": [],
   "source": [
    "import matplotlib.pyplot as plt\n",
    "import xarray as xr\n",
    "\n",
    "import shnitsel as sh\n",
    "import shnitsel.xarray"
   ]
  },
  {
   "cell_type": "code",
   "execution_count": null,
   "metadata": {},
   "outputs": [],
   "source": [
    "A01 = sh.open_frames('/nc/reports/2025-05-21_datasheets/filtered_C2H4.nc')\n",
    "I01 = sh.open_frames('/nc/SHNITSEL_databases/dynamic/I01_ch2nh2_dynamic.nc')\n",
    "A02 = sh.open_frames('/nc/reports/2025-05-21_datasheets/filtered_C3H6.nc')\n",
    "A03 = sh.open_frames('/nc/reports/2025-05-21_datasheets/filtered_C4H8_g0.nc')"
   ]
  },
  {
   "cell_type": "code",
   "execution_count": null,
   "metadata": {},
   "outputs": [],
   "source": [
    "def vis(frames, charge=0):\n",
    "    mol = sh.dynamic.filter_unphysical.mol_from_atXYZ(\n",
    "        frames.atXYZ.isel(frame=0), charge=charge, to2D=True\n",
    "    )\n",
    "    for atom in mol.GetAtoms():\n",
    "        atom.SetProp(\"atomNote\", str(atom.GetIdx()))\n",
    "    return mol"
   ]
  },
  {
   "cell_type": "code",
   "execution_count": null,
   "metadata": {},
   "outputs": [],
   "source": [
    "vis(A01, 0)"
   ]
  },
  {
   "cell_type": "code",
   "execution_count": null,
   "metadata": {},
   "outputs": [],
   "source": [
    "vis(I01, +1)"
   ]
  },
  {
   "cell_type": "code",
   "execution_count": null,
   "metadata": {},
   "outputs": [],
   "source": [
    "vis(A02)"
   ]
  },
  {
   "cell_type": "code",
   "execution_count": null,
   "metadata": {},
   "outputs": [],
   "source": [
    "# Renumber: 4 <-> 5\n",
    "A02new = A02.isel(atom=slice(0,6)).assign_coords(atom=[0, 1, 2, 3, 5, 4]).sortby('atom')\n",
    "vis(A02new, -3)"
   ]
  },
  {
   "cell_type": "code",
   "execution_count": null,
   "metadata": {},
   "outputs": [],
   "source": [
    "vis(A03)"
   ]
  },
  {
   "cell_type": "code",
   "execution_count": null,
   "metadata": {},
   "outputs": [],
   "source": [
    "# Renumber: 0->3, 1->1, 2->0, 3->2, 4->4, 5->5,\n",
    "A03new = A03.isel(atom=[0,1,2,3,7,8]).assign_coords(atom=[3, 1, 0, 2, 4, 5]).sortby('atom')\n",
    "vis(A03new, -8)"
   ]
  },
  {
   "cell_type": "code",
   "execution_count": null,
   "metadata": {},
   "outputs": [],
   "source": [
    "homologs = xr.concat(\n",
    "    [\n",
    "        A01.sh.expand_midx('frame', 'cmpnd', 'A01'),\n",
    "        I01.sh.expand_midx('frame', 'cmpnd', 'I01'),\n",
    "        A02new.sh.expand_midx('frame', 'cmpnd', 'A02'),\n",
    "        A03new.sh.expand_midx('frame', 'cmpnd', 'A03')\n",
    "    ],\n",
    "    dim='frame',\n",
    "    coords='minimal',\n",
    "    compat='override'\n",
    ")\n",
    "homologs"
   ]
  },
  {
   "cell_type": "code",
   "execution_count": null,
   "metadata": {},
   "outputs": [],
   "source": [
    "pwdist = homologs.atXYZ.sh.subtract_combinations('atom').sh.norm('direction')\n",
    "pca = pwdist.sh.pca('atomcomb')"
   ]
  },
  {
   "cell_type": "code",
   "execution_count": null,
   "metadata": {},
   "outputs": [],
   "source": [
    "fig, axs = plt.subplot_mosaic([['I01', 'A01'],['A02', 'A03']], layout='constrained')\n",
    "\n",
    "# grey background\n",
    "for ax in axs.values():\n",
    "    for _, traj in pca.groupby('trajid'):\n",
    "        ax.plot(traj[:,0], traj[:,1], c='gray', alpha=0.5)\n",
    "\n",
    "for name, cmpnd in pca.groupby('cmpnd'):\n",
    "    ax = axs[name]\n",
    "    for _, traj in cmpnd.groupby('trajid'):\n",
    "        ax.plot(traj[:,0], traj[:,1], c='red', alpha=0.5)\n",
    "    ax.set_title(name)\n"
   ]
  },
  {
   "cell_type": "markdown",
   "metadata": {},
   "source": [
    "# Identify clusters\n",
    "Over all homologs/isoelectronics"
   ]
  },
  {
   "cell_type": "markdown",
   "metadata": {},
   "source": [
    "## 1. On the frame level"
   ]
  },
  {
   "cell_type": "markdown",
   "metadata": {},
   "source": [
    "### 1.1 $k$-means on frames before PCA"
   ]
  },
  {
   "cell_type": "code",
   "execution_count": null,
   "metadata": {},
   "outputs": [],
   "source": [
    "from sklearn.cluster import KMeans\n",
    "kmc = KMeans(n_clusters=12)\n",
    "pwdist = pwdist.transpose('frame', 'atomcomb')\n",
    "kmc.fit(pwdist)\n",
    "res_kmc = kmc.predict(pwdist)\n",
    "pca['cluster'] = 'frame', res_kmc\n",
    "\n",
    "plt.scatter(pca[:,0], pca[:,1], c=res_kmc, s=0.1)\n",
    "for lcmpnd, cmpnd in pca.groupby('cmpnd'):\n",
    "    for ltraj, traj in cmpnd.groupby('trajid'):\n",
    "        point = traj.isel(frame=-1)\n",
    "        plt.text(point.item(0), point.item(1), point.cluster.item())"
   ]
  },
  {
   "cell_type": "code",
   "execution_count": null,
   "metadata": {},
   "outputs": [],
   "source": [
    "fig, axs = plt.subplot_mosaic([['I01', 'A01'],['A02', 'A03']], layout='constrained')\n",
    "# fig.set_dpi(200)\n",
    "w, h = fig.get_size_inches()\n",
    "fig.set_size_inches(w*2, h*2)\n",
    "\n",
    "# grey background\n",
    "for ax in axs.values():\n",
    "    for _, traj in pca.groupby('trajid'):\n",
    "        ax.plot(traj[:,0], traj[:,1], c='gray', alpha=0.5, zorder=0.9)\n",
    "\n",
    "for name, cmpnd in pca.groupby('cmpnd'):\n",
    "    ax = axs[name]\n",
    "    ax.scatter(cmpnd[:,0], cmpnd[:,1], c=cmpnd['cluster'], s=0.1)\n",
    "    ax.set_title(name)\n",
    "    for ltraj, traj in cmpnd.groupby('trajid'):\n",
    "        point = traj.isel(frame=-1)\n",
    "        ax.text(point.item(0), point.item(1), point.cluster.item())"
   ]
  },
  {
   "cell_type": "code",
   "execution_count": null,
   "metadata": {},
   "outputs": [],
   "source": [
    "from shnitsel.dynamic.plot import p3mhelpers\n",
    "\n",
    "sh.dynamic.plot.p3mhelpers.frames3Dgrid(\n",
    "    homologs.atXYZ.sel(frame=pca.cluster==11)\n",
    "    .sh.flatten_levels('frame', ['cmpnd', 'trajid'])\n",
    "    .groupby('trajid').map(lambda x: x.isel(frame=-1))\n",
    "    .drop_vars('frame')\n",
    "    .rename({'trajid': 'frame'})\n",
    ")\n",
    "None"
   ]
  }
 ],
 "metadata": {
  "kernelspec": {
   "display_name": ".venv",
   "language": "python",
   "name": "python3"
  },
  "language_info": {
   "codemirror_mode": {
    "name": "ipython",
    "version": 3
   },
   "file_extension": ".py",
   "mimetype": "text/x-python",
   "name": "python",
   "nbconvert_exporter": "python",
   "pygments_lexer": "ipython3",
   "version": "3.12.7"
  }
 },
 "nbformat": 4,
 "nbformat_minor": 2
}
