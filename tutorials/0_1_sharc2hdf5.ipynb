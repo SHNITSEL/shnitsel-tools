{
 "cells": [
  {
   "cell_type": "code",
   "execution_count": null,
   "id": "e703d6d2-8033-40b5-a267-7686dda80c7a",
   "metadata": {},
   "outputs": [],
   "source": [
    "import os\n",
    "import shnitsel as sh\n",
    "import shnitsel.xarray"
   ]
  },
  {
   "cell_type": "markdown",
   "id": "f0672b1d-1dfa-4d59-bc98-2776481aad6c",
   "metadata": {},
   "source": [
    "## Initial Conditions\n",
    "\n",
    "Here we read from the folder ```test_data/sharc/iconds_butene``` the results of four initial conditions of butene.\n",
    "\n",
    "In the resulting xarray, we can see that we have information available on the energies, forces, NACs, transition and permanent dipoles and the phase of the wavefunctions for all four configurations of butene in three electronic states."
   ]
  },
  {
   "cell_type": "code",
   "execution_count": null,
   "id": "e77d4f63-ccbf-4b8b-b924-9c045aa2648a",
   "metadata": {},
   "outputs": [],
   "source": [
    "iconds_butene = shnitsel.parse.sharc_icond.dirs_of_iconds(path='./test_data/sharc/iconds_butene')\n",
    "iconds_butene"
   ]
  },
  {
   "cell_type": "code",
   "execution_count": null,
   "id": "b4dc8f5c-ae99-494f-b1a8-9daa5e182ccf",
   "metadata": {},
   "outputs": [],
   "source": [
    "# save the parsed data to h5netcdf file\n",
    "savepath = os.path.join(os.getcwd(), 'test_data', 'sharc', 'iconds_butene.hdf5')\n",
    "iconds_butene.sh.save_frames(savepath)\n"
   ]
  },
  {
   "cell_type": "markdown",
   "id": "b4247e8d-18de-4dca-8980-e74e222fffae",
   "metadata": {},
   "source": [
    "## Trajectories\n",
    "\n",
    "Here we read from the folder ```test_data/sharc/traj_butene``` the data of two trajectories of butene upon excitation to the $\\mathrm S_1$ state.\n",
    "\n"
   ]
  },
  {
   "cell_type": "code",
   "execution_count": null,
   "id": "b0124690-6e2d-4633-8b57-35248303f700",
   "metadata": {},
   "outputs": [],
   "source": [
    "traj_frames_butene = sh.read_trajs('test_data/sharc/traj_butene', kind='sharc')\n",
    "traj_frames_butene"
   ]
  },
  {
   "cell_type": "code",
   "execution_count": null,
   "id": "a64c04f5-77e6-48f0-b67a-bf57c9f6de91",
   "metadata": {},
   "outputs": [],
   "source": [
    "# data at a certain time-step (ts)\n",
    "traj_frames_butene.sel(ts=300)"
   ]
  },
  {
   "cell_type": "code",
   "execution_count": null,
   "id": "5cffd4fe",
   "metadata": {},
   "outputs": [],
   "source": [
    "# data for a certain trajectory (trajid)\n",
    "traj_frames_butene.sel(trajid=2)"
   ]
  },
  {
   "cell_type": "code",
   "execution_count": null,
   "id": "4eaa8c57-9014-4f54-a5e0-1cfa5e09bb74",
   "metadata": {},
   "outputs": [],
   "source": [
    "# save the parsed data to h5netcdf file\n",
    "savepath = os.path.join(os.getcwd(), 'test_data', 'sharc', 'traj_butene.nc')\n",
    "traj_frames_butene.sh.save_frames(savepath, complevel=5)"
   ]
  }
 ],
 "metadata": {
  "kernelspec": {
   "display_name": ".venv",
   "language": "python",
   "name": "python3"
  },
  "language_info": {
   "codemirror_mode": {
    "name": "ipython",
    "version": 3
   },
   "file_extension": ".py",
   "mimetype": "text/x-python",
   "name": "python",
   "nbconvert_exporter": "python",
   "pygments_lexer": "ipython3",
   "version": "3.12.7"
  }
 },
 "nbformat": 4,
 "nbformat_minor": 5
}
