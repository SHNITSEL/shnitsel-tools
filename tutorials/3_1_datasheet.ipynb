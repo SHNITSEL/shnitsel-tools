{
 "cells": [
  {
   "cell_type": "code",
   "execution_count": null,
   "metadata": {},
   "outputs": [],
   "source": [
    "# import matplotlib as mpl\n",
    "# matplotlib.style.use('fast')\n",
    "# matplotlib.use('agg')\n",
    "import logging\n",
    "logging.basicConfig(level=logging.INFO)\n",
    "import shnitsel as sh"
   ]
  },
  {
   "cell_type": "markdown",
   "metadata": {},
   "source": [
    "## Basic datasheet test"
   ]
  },
  {
   "cell_type": "code",
   "execution_count": null,
   "metadata": {},
   "outputs": [],
   "source": [
    "sheet = sh.plot.Datasheet(\n",
    "    path='/nc/SHNITSEL_databases/dynamic/A01_ethene_dynamic.nc'\n",
    ")"
   ]
  },
  {
   "cell_type": "code",
   "execution_count": null,
   "metadata": {},
   "outputs": [],
   "source": [
    "%time sheet.calc_all()"
   ]
  },
  {
   "cell_type": "code",
   "execution_count": null,
   "metadata": {},
   "outputs": [],
   "source": [
    "%time sheet.plot_per_state_histograms()"
   ]
  },
  {
   "cell_type": "code",
   "execution_count": null,
   "metadata": {},
   "outputs": [],
   "source": [
    "%time sheet.plot_timeplots()"
   ]
  },
  {
   "cell_type": "code",
   "execution_count": null,
   "metadata": {},
   "outputs": [],
   "source": [
    "%time sheet.plot_separated_spectra_and_hists()"
   ]
  },
  {
   "cell_type": "code",
   "execution_count": null,
   "metadata": {},
   "outputs": [],
   "source": [
    "%time fig = sheet.plot()"
   ]
  },
  {
   "cell_type": "code",
   "execution_count": null,
   "metadata": {},
   "outputs": [],
   "source": [
    "# fig.savefig('/tmp/ethene.png')"
   ]
  },
  {
   "cell_type": "markdown",
   "metadata": {},
   "source": [
    "## Alkene datasheets"
   ]
  },
  {
   "cell_type": "code",
   "execution_count": null,
   "metadata": {},
   "outputs": [],
   "source": [
    "from glob import iglob\n",
    "for path in iglob('/nc/Theo_SHNITSEL/filtered/*.nc'):\n",
    "    print(path)\n",
    "    sheet = sh.plot.Datasheet(path=path)\n",
    "    sheet.plot()"
   ]
  },
  {
   "cell_type": "markdown",
   "metadata": {},
   "source": [
    "## Methylenimmonium"
   ]
  },
  {
   "cell_type": "code",
   "execution_count": null,
   "metadata": {},
   "outputs": [],
   "source": [
    "sheet = sh.plot.Datasheet(path='/nc/Theo_SHNITSEL/unfiltered/CH2NH2_time.nc')\n",
    "sheet.charge = 1\n",
    "sheet.plot()"
   ]
  },
  {
   "cell_type": "markdown",
   "metadata": {},
   "source": [
    "## Save all datasheets"
   ]
  },
  {
   "cell_type": "code",
   "execution_count": null,
   "metadata": {},
   "outputs": [],
   "source": [
    "import os\n",
    "os.mkdir('/tmp/datasheets')\n",
    "os.chdir('/nc/SHNITSEL_databases/dynamic/')\n",
    "paths = dict(\n",
    "    I01 = 'I01_ch2nh2_dynamic.nc',\n",
    "    A01 = 'A01_ethene_dynamic.nc',\n",
    "    A02 = 'A02_propene_dynamic.nc',\n",
    "    A03 = 'A03_butene_dynamic.nc',\n",
    "    R01a = 'R01a_chd50_dynamic.nc',\n",
    "    R01b = 'R01b_chd25_dynamic.nc',\n",
    ")\n",
    "for ref, path in paths.items():\n",
    "    sheet = sh.plot.Datasheet(path=path)\n",
    "    fig = sheet.plot()\n",
    "    fig.set_dpi(400)\n",
    "    fig.savefig(f'/tmp/datasheets/{ref}.pdf')\n",
    "    fig.savefig(f'/tmp/datasheets/{ref}.png')"
   ]
  }
 ],
 "metadata": {
  "kernelspec": {
   "display_name": ".venv",
   "language": "python",
   "name": "python3"
  },
  "language_info": {
   "codemirror_mode": {
    "name": "ipython",
    "version": 3
   },
   "file_extension": ".py",
   "mimetype": "text/x-python",
   "name": "python",
   "nbconvert_exporter": "python",
   "pygments_lexer": "ipython3",
   "version": "3.12.7"
  }
 },
 "nbformat": 4,
 "nbformat_minor": 2
}
