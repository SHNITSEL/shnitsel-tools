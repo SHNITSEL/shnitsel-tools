{
 "cells": [
  {
   "cell_type": "markdown",
   "metadata": {},
   "source": [
    "# Clustering of trajectories"
   ]
  },
  {
   "cell_type": "code",
   "execution_count": null,
   "metadata": {},
   "outputs": [],
   "source": [
    "import shnitsel as sh\n",
    "import shnitsel.xarray\n",
    "import matplotlib.pyplot as plt\n",
    "import xarray as xr\n",
    "\n",
    "from rdkit.Chem.Draw import IPythonConsole\n",
    "IPythonConsole.drawOptions.addAtomIndices = True"
   ]
  },
  {
   "cell_type": "code",
   "execution_count": null,
   "metadata": {},
   "outputs": [],
   "source": [
    "homologs = sh.open_frames('/tmp/homologs.nc')\n",
    "homologs"
   ]
  },
  {
   "cell_type": "code",
   "execution_count": null,
   "metadata": {},
   "outputs": [],
   "source": [
    "homologs.atXYZ.sel(cmpnd='A03').isel(frame=0).sh.to_mol(to2D=False)"
   ]
  },
  {
   "cell_type": "markdown",
   "metadata": {},
   "source": [
    "Choose the four different possible dihedrals as descriptors. Concatenate them into a single DataArray."
   ]
  },
  {
   "cell_type": "code",
   "execution_count": null,
   "metadata": {},
   "outputs": [],
   "source": [
    "desc_list = [\n",
    "        homologs.atXYZ.sh.dihedral(3, 1, 0, 5, deg=True),\n",
    "        homologs.atXYZ.sh.dihedral(3, 1, 0, 2, deg=True),\n",
    "        homologs.atXYZ.sh.dihedral(4, 1, 0, 5, deg=True),\n",
    "        homologs.atXYZ.sh.dihedral(4, 1, 0, 2, deg=True),\n",
    "]\n",
    "for i, desc in enumerate(desc_list):\n",
    "    desc_list[i] = desc.assign_coords(descriptor=desc.attrs['long_name'])\n",
    "descriptors = xr.concat(desc_list, dim=\"descriptor\")\n",
    "descriptors"
   ]
  },
  {
   "cell_type": "markdown",
   "metadata": {},
   "source": [
    "Calculate the PCA of these descriptors, reducing from 4 to 2 dimensions.  \n",
    "We will also need one of the original dihedral vectors for labelling trajectories."
   ]
  },
  {
   "cell_type": "code",
   "execution_count": null,
   "metadata": {},
   "outputs": [],
   "source": [
    "dpca, dpca_obj = descriptors.sh.pca('descriptor', return_pca_object=True)\n",
    "dpca['dih'] = desc_list[1]\n",
    "dpca"
   ]
  },
  {
   "cell_type": "markdown",
   "metadata": {},
   "source": [
    "The loadings, when plotted together with the PCA results, will allow us to understand the significance of different directions in reduced space."
   ]
  },
  {
   "cell_type": "code",
   "execution_count": null,
   "metadata": {},
   "outputs": [],
   "source": [
    "loadings = xr.DataArray(\n",
    "    data=dpca_obj.components_,\n",
    "    dims=['PC', 'descriptor'],\n",
    "    coords=dict(\n",
    "        descriptor=descriptors.descriptor\n",
    "    )\n",
    ")\n",
    "loadings"
   ]
  },
  {
   "cell_type": "code",
   "execution_count": null,
   "metadata": {},
   "outputs": [],
   "source": [
    "plt.rc('font', size=12)\n",
    "plt.rc('lines', linewidth=2)\n",
    "\n",
    "fig, axs = plt.subplot_mosaic([['I01', 'A01'],['A02', 'A03']], layout='constrained')\n",
    "\n",
    "# Grey background:\n",
    "for name, ax in axs.items():\n",
    "    ax.set_title(name)\n",
    "    for (cmpnd, trajid), traj in dpca.sh.mgroupby(['cmpnd', 'trajid']):\n",
    "        ax.plot(traj[:,0], traj[:,1], c='#ccc')\n",
    "\n",
    "# Trajectories as lines, coloured by end-dihedral for A02 & A03:\n",
    "for (cmpnd, trajid), traj in dpca.sh.mgroupby(['cmpnd', 'trajid']):\n",
    "    if cmpnd in {'I01', 'A01'}:\n",
    "        c = '#7E5273'\n",
    "    elif traj['dih'].isel(frame=-1) < 80:\n",
    "        c = '#2c3e50'\n",
    "    elif traj['dih'].isel(frame=-1) > 100:\n",
    "        c = '#C4A000'\n",
    "    axs[cmpnd].plot(traj[:,0], traj[:,1], c=c, lw=0.5)\n",
    "\n",
    "# Loadings as arrows:\n",
    "for label, pcs in loadings.groupby('descriptor'):\n",
    "    pc1, pc2 = pcs.item(0), pcs.item(1)\n",
    "    ax.annotate('', xy=(0, 0), xytext=(pc1, pc2), arrowprops=dict(arrowstyle=\"<-\", shrinkA=0, shrinkB=0))\n",
    "    ax.text(pc1*1.15, pc2*1.15, label)\n",
    "\n",
    "fig.supxlabel('PC1')\n",
    "fig.supylabel('PC2')"
   ]
  },
  {
   "cell_type": "code",
   "execution_count": null,
   "metadata": {},
   "outputs": [],
   "source": [
    "plt.rc('font', size=16)\n",
    "plt.rc('lines', linewidth=1)\n",
    "\n",
    "fig, ax = plt.subplots(1, 1)\n",
    "fig.set_size_inches(4, 5)\n",
    "\n",
    "# Grey background:\n",
    "for (cmpnd, trajid), traj in dpca.sh.mgroupby(['cmpnd', 'trajid']):\n",
    "        ax.plot(traj[:,0], traj[:,1], c='#ccc', alpha=1)\n",
    "\n",
    "# Trajectories as lines, coloured by end-dihedral:\n",
    "for trajid, traj in dpca.sel(cmpnd='A03').groupby('trajid'):\n",
    "    if traj['dih'].isel(frame=-1) < 80:\n",
    "        c = '#2c3e50'\n",
    "    elif traj['dih'].isel(frame=-1) > 100:\n",
    "        c = '#C4A000'\n",
    "    ax.plot(traj[:,0], traj[:,1], c=c)\n",
    "\n",
    "# Loadings as arrows:\n",
    "for label, pcs in loadings.groupby('descriptor'):\n",
    "    pc1, pc2 = pcs.item(0), pcs.item(1)\n",
    "    # Draw arrow:\n",
    "    ax.annotate('', xy=(0, 0), xytext=(pc1, pc2), arrowprops=dict(arrowstyle=\"<-\", shrinkA=0, shrinkB=0))\n",
    "    ax.text(pc1*1.15, pc2*1.15, label)\n",
    "\n",
    "ax.set_xlabel('PC1')\n",
    "ax.set_ylabel('PC2')\n",
    "# fig.savefig('/nc/reports/2025-06-30_4-step_figure/3.pdf')"
   ]
  }
 ],
 "metadata": {
  "kernelspec": {
   "display_name": ".venv",
   "language": "python",
   "name": "python3"
  },
  "language_info": {
   "codemirror_mode": {
    "name": "ipython",
    "version": 3
   },
   "file_extension": ".py",
   "mimetype": "text/x-python",
   "name": "python",
   "nbconvert_exporter": "python",
   "pygments_lexer": "ipython3",
   "version": "3.12.7"
  }
 },
 "nbformat": 4,
 "nbformat_minor": 2
}
